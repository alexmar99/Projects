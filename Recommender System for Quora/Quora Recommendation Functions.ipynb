{
 "cells": [
  {
   "cell_type": "markdown",
   "id": "d63d496f-4f83-49b5-bcbc-2e633616695c",
   "metadata": {
    "nbgrader": {
     "cell_type": "markdown",
     "checksum": "cf7e9c5582c333e40be4dacf69d8e1a4",
     "grade": false,
     "grade_id": "cell-83f82edd21ba73d7",
     "locked": true,
     "schema_version": 3,
     "solution": false,
     "task": false
    },
    "tags": []
   },
   "source": [
    "# Recommendation Functions\n",
    "- This notebook contains several different types of recommender functions to recommend questions that a user hasnt answered before to relevant users in Quora\n",
    "\n",
    "\n",
    "**Function Arguments**:\n",
    "\n",
    "- `topics`: The set of topics or items for recommendations.\n",
    "- `feedback`: User feedback data.\n",
    "- `answers`: The answer data related to each topic.\n",
    "- `n`: Number of top recommendations to return (default is 5)."
   ]
  },
  {
   "cell_type": "code",
   "execution_count": 1,
   "id": "680c518d-5b5a-49b6-bfd0-30fa64ab3987",
   "metadata": {
    "ExecuteTime": {
     "end_time": "2023-07-07T11:30:44.505638Z",
     "start_time": "2023-07-07T11:30:44.193859Z"
    },
    "deletable": false,
    "editable": false,
    "nbgrader": {
     "cell_type": "code",
     "checksum": "5dc4b33d8691e31eef9a67790dcf7b7e",
     "grade": false,
     "grade_id": "cell-f723ff0ae4f5e5ac",
     "locked": true,
     "schema_version": 3,
     "solution": false,
     "task": false
    },
    "tags": []
   },
   "outputs": [],
   "source": [
    "import pandas as pd\n",
    "topics = pd.read_csv(r\"./topics.csv\", index_col = 'Question')\n",
    "feedback = pd.read_csv(r\"./feedback.csv\", index_col = 'Question')\n",
    "answers = pd.read_csv(r\"./answers.csv\", index_col = 'Question')"
   ]
  },
  {
   "cell_type": "code",
   "execution_count": 2,
   "id": "c4562be3",
   "metadata": {
    "ExecuteTime": {
     "end_time": "2023-07-07T11:30:45.000281Z",
     "start_time": "2023-07-07T11:30:44.506639Z"
    }
   },
   "outputs": [],
   "source": [
    "from sklearn.metrics.pairwise import cosine_similarity\n",
    "import numpy as np\n",
    "import math\n",
    "\n",
    "#Defining the function to calculate cosine_similarity for all functions using the sklearn implementation\n",
    "def calculate_cosine_similarity(vector1, matrix):\n",
    "    return cosine_similarity([vector1], matrix)[0]\n",
    "\n",
    "#Defining the function to create the recommendations dictionary\n",
    "\n",
    "def initialize_recommendations(feedback, n):\n",
    "    \"\"\"Initialize an empty dictionary for recommendations with NaNs for each user\"\"\"\n",
    "    return {user: {i: math.nan for i in range(1, n + 1)} for user in feedback.columns}\n",
    "\n",
    "#Defining the function to sort the cosine_similarities\n",
    "\n",
    "def get_sorted_indices(cosine_similarities):\n",
    "    \"\"\"Get sorted list of indices based on cosine similarities\"\"\"\n",
    "    return np.argsort(cosine_similarities)[::-1]\n",
    "\n",
    "#Defining the function to get the top n recommendations filtered by whether the user is interested in that question or not.\n",
    "def get_top_recommendations(user, feedback, topics, cosine_similarities, n=5):\n",
    "    \"\"\"Get top n recommendations for a user\"\"\"\n",
    "    top_recommendations = {}\n",
    "\n",
    "    # Get sorted indices\n",
    "    all_recommendations_indices = get_sorted_indices(cosine_similarities)\n",
    "\n",
    "    # Get indices mapping\n",
    "    feedback_indices = feedback.index\n",
    "    topics_indices = topics.index\n",
    "    index_mapping = {i: feedback_indices[i] for i in range(len(feedback_indices))}\n",
    "\n",
    "    for recommendation in all_recommendations_indices:\n",
    "        # Remap the recommendation index to match the feedback DataFrame\n",
    "        mapped_index = index_mapping[recommendation]\n",
    "\n",
    "        # If this is not super_user, check if feedback is already given and skip if so, we dont want to recommend questions that already have feedback.\n",
    "        if user != 'super_user' and feedback.loc[mapped_index, user] != 0:\n",
    "            continue\n",
    "\n",
    "        top_recommendations[mapped_index] = cosine_similarities[recommendation]\n",
    "        if len(top_recommendations) == n:  # break if found n recommendations\n",
    "            break\n",
    "\n",
    "    return top_recommendations\n",
    "\n",
    "\n",
    "#Defining the simply unary user profile calculations\n",
    "\n",
    "def user_profile_simply_unary(feedback, topics):\n",
    "    \"\"\"Multiply transposed feedback by topics matrix to get user profiles\"\"\"\n",
    "    return feedback.values.T.dot(topics.values)\n",
    "\n",
    "\n",
    "#Defining the normalization of topic (for unit weight and idf)\n",
    "\n",
    "def normalize_topic(topic):\n",
    "    \"\"\"Normalize a single topic so its values sum to 1\"\"\"\n",
    "    topic_total = topic.sum()\n",
    "    normalized_topic = topic / topic_total\n",
    "    return normalized_topic\n",
    "\n",
    "#Defining the user_profile calculation for unit_weight\n",
    "\n",
    "def user_profile_unit_weight(feedback, topics_normalized):\n",
    "    \"\"\"Multiply transposed binary feedback by normalized topics matrix to get user profiles\"\"\"\n",
    "    return feedback.values.T.dot(topics_normalized.values)\n",
    "\n",
    "#Defining function to calculate IDF\n",
    "\n",
    "def calculate_idf(topics):\n",
    "    \"\"\"Calculate IDF for each topic, slides used log so we will also use log (even though the calculation in the slides used log10 not log)\"\"\"\n",
    "    return np.log(topics.shape[0] / (topics != 0).sum(axis=0))\n",
    "\n",
    " #Defining the function to create the user profile following the slides for IDF (inverse document frequency)\n",
    "def generate_user_profiles_idf(feedback, topics):\n",
    "    \"\"\"Generate user profiles using IDF function from the slides\"\"\"\n",
    "    user_profiles = pd.DataFrame(index=feedback.columns, columns=topics.columns)\n",
    "    \n",
    "    idf_values = calculate_idf(topics)\n",
    "\n",
    "    for user in feedback.columns:\n",
    "        user_profile = np.zeros(topics.shape[1])\n",
    "\n",
    "        for i, feedback_value in enumerate(feedback[user]):\n",
    "            # Skip the calculation if feedback_value is zero as an multiplication by 0 is 0\n",
    "            if feedback_value == 0:\n",
    "                continue\n",
    "            \n",
    "            # Normalize the topic values by the topic total\n",
    "            normalized_topic = normalize_topic(topics.iloc[i])\n",
    "            \n",
    "            # Calculate the contribution of this topic to the user's profile\n",
    "            contribution = feedback_value * normalized_topic * idf_values\n",
    "            \n",
    "            # Add the contribution to the user's profile\n",
    "            user_profile += contribution\n",
    "\n",
    "        user_profiles.loc[user] = pd.Series(user_profile, index=topics.columns)\n",
    "\n",
    "    return user_profiles\n",
    "\n",
    "# This is the code to recommend using non-personalized methods\n",
    "def non_personalized_recommendation(feedback, n=5):\n",
    "    \"\"\"Generates a list of questions ordered by the sum of all their positive feedback divided by the total count of feedback of all questions\"\"\"\n",
    "    # Calculate positive feedback per question\n",
    "    absolute_total_feedback = feedback.abs().sum(axis=0).sum()\n",
    "    positive_feedback_per_question = feedback.sum(axis=1) / absolute_total_feedback\n",
    "\n",
    "    # Recommend top questions with highest positive feedback scores\n",
    "    top_questions = positive_feedback_per_question.nlargest(n)\n",
    "    recommendation = {\n",
    "        question: positive_feedback_per_question[question]\n",
    "        for question in top_questions.index\n",
    "    }\n",
    "\n",
    "    return recommendation"
   ]
  },
  {
   "cell_type": "code",
   "execution_count": 3,
   "id": "598bdef2",
   "metadata": {
    "ExecuteTime": {
     "end_time": "2023-07-07T11:30:45.008356Z",
     "start_time": "2023-07-07T11:30:45.001283Z"
    }
   },
   "outputs": [],
   "source": [
    "#Function that weighs the content based and collaborative based recommendations \n",
    "def weight_recommendations(user, content_based, collaborative, n=5):\n",
    "    \"\"\"This is how we weigh the content based recommendations and the collaborative recommendations, currently each has a 50% weight. It takes as input the recommendations from both methods and outputs the new recommendations\"\"\"\n",
    "    # Get all unique items from both sets of recommendations\n",
    "    items = set(list(content_based[user].keys()) + list(collaborative[user].keys()))\n",
    "    weight_content_based = 0.6\n",
    "    # Calculate the weighted average recommendation score for each item\n",
    "    scores = {}\n",
    "    for item in items:\n",
    "        cb_score = content_based[user].get(item, 0)\n",
    "        cf_score = collaborative[user].get(item, 0)\n",
    "        score = (weight_content_based * cb_score) + ((1 - weight_content_based) * cf_score)\n",
    "        scores[item] = score\n",
    "\n",
    "    # Sort items by score in descending order to get the highest scores first\n",
    "    sorted_scores = dict(sorted(scores.items(), key=lambda item: item[1], reverse=True))\n",
    "    \n",
    "    # Slice the sorted scores to keep only the top n items (in our case we want 5, but it will be defined)\n",
    "    top_scores = dict(list(sorted_scores.items())[:n])\n",
    "\n",
    "    return top_scores\n",
    "\n",
    "# Here we get recommendations based on what similar users like, using a user-user similarity matrix.\n",
    "\n",
    "def get_collaborative_recommendations(feedback, topics, n=5):\n",
    "    \"\"\"This generates recommendations per user based on what other users that are similar positively interacted with\"\"\"\n",
    "    # Calculate user-user similarity matrix\n",
    "    user_similarity = cosine_similarity(feedback.T)\n",
    "    user_similarity_df = pd.DataFrame(user_similarity, index=feedback.columns, columns=feedback.columns)\n",
    "\n",
    "    # Initialize recommendations dictionary\n",
    "    prediction = {}\n",
    "\n",
    "    # Iterate through each user\n",
    "    for user in feedback.columns:\n",
    "        # Get top N similar users to the target user\n",
    "        top_n_users = user_similarity_df[user].sort_values(ascending=False)[1:n+1].index\n",
    "        \n",
    "        # Get items liked by the top N similar users\n",
    "        similar_users_items = feedback[top_n_users].mean(axis=1).sort_values(ascending=False)\n",
    "\n",
    "        # Filter out items that the user has already interacted with\n",
    "        already_interacted = feedback.loc[feedback[user] != 0].index\n",
    "        recommended_items = similar_users_items.loc[[item for item in similar_users_items.index if item not in already_interacted]]\n",
    "        \n",
    "        # Convert list of recommendations to a dictionary where each item's score is its average score from similar users\n",
    "        recommended_items_dict = recommended_items[:n].to_dict()\n",
    "\n",
    "        # Add user's recommendations to the dictionary\n",
    "        prediction[user] = recommended_items_dict\n",
    "\n",
    "    return prediction\n",
    "\n",
    "# Here we define a function that creates a super user that takes from all other users where feedback sum is not 0. This super user contribution per user is weighted based on how much feedback theyve given (those with more feedback data matter more)\n",
    "def generate_super_user_profile(feedback, user_profiles,n=5):\n",
    "    \"\"\"This function creates a super user, basically creates a weighted average of all user profiles based on their feedback (those users that provide more feedback are considered more)\"\"\"\n",
    "    # 1: Calculate the total feedback for each user (sum of absolute values to count all feedbacks)\n",
    "    total_feedback = feedback.abs().sum()\n",
    "\n",
    "    # 2: Normalize the user feedback against total feedback for all users\n",
    "    weights = total_feedback / total_feedback.sum()\n",
    "\n",
    "    # 3: Create a new DataFrame to store the super user profile\n",
    "    super_user_profile = pd.DataFrame(np.zeros((1, len(user_profiles.columns))), columns=user_profiles.columns, index=[\"Super User\"])\n",
    "\n",
    "    # 4: Iterate through each user profile and compute the weighted sum\n",
    "    for user in user_profiles.index:\n",
    "        super_user_profile += weights[user] * user_profiles.loc[user]\n",
    "\n",
    "    # 5: Return the super user profile as a 2D matrix\n",
    "    return super_user_profile.values"
   ]
  },
  {
   "cell_type": "markdown",
   "id": "dce225dd-95b0-44aa-b49d-9a89fd822745",
   "metadata": {
    "nbgrader": {
     "cell_type": "markdown",
     "checksum": "084d360f09faf82c804051d60be1acf9",
     "grade": false,
     "grade_id": "cell-dff973ee1d043a4e",
     "locked": true,
     "schema_version": 3,
     "solution": false,
     "task": false
    },
    "tags": []
   },
   "source": [
    "# Summary of the `simply_unary` Function\n",
    "\n",
    "The `simply_unary` function is designed to generate personalized item recommendations for users using a content-based filtering approach. The function creates user profiles using a simply unary method, meaning it considers only the occurrence of user interactions, but not the weight of the interactions.\n",
    "\n",
    "## Detailed Function Operations:\n",
    "\n",
    "1. **User Profiles Generation**: User profiles are generated using the `user_profile_simply_unary` function. The user profile is built only considering whether an interaction occurred, without considering the weight or frequency of the interactions.\n",
    "\n",
    "2. **Recommendations Initialization**: A dictionary named `prediction` is initialized to store the recommendations. This initialization is carried out using the `initialize_recommendations` function.\n",
    "\n",
    "3. **Recommendations Calculation**: For each user profile, the following steps are executed:\n",
    "   - If the user has not provided any feedback (feedback values are all zero), the function skips to the next user.\n",
    "   - If the user has provided feedback, the function calculates the cosine similarity between the user's profile and the topics using the `calculate_cosine_similarity` function.\n",
    "   - Then, the top `n` recommendations for the user are determined using the `get_top_recommendations` function.\n",
    "\n",
    "4. **Return Recommendations**: The function returns the `prediction` dictionary. Each key-value pair in this dictionary corresponds to a user and their corresponding item recommendations, respectively.\n",
    "\n",
    "The `simply_unary` function provides a straightforward, occurrence-based approach to user profiling in content-based recommendation systems. It doesn't factor in the frequency or weight of the user interactions.\n",
    "\n",
    "\n"
   ]
  },
  {
   "cell_type": "code",
   "execution_count": 4,
   "id": "b01cf289-cd92-4d54-9d4c-1481ab44f5c3",
   "metadata": {
    "ExecuteTime": {
     "end_time": "2023-07-07T11:30:45.012379Z",
     "start_time": "2023-07-07T11:30:45.009359Z"
    },
    "nbgrader": {
     "cell_type": "code",
     "checksum": "4f34961791a7c8a264ba204d945cb0b6",
     "grade": false,
     "grade_id": "ex1",
     "locked": false,
     "schema_version": 3,
     "solution": true,
     "task": false
    },
    "tags": []
   },
   "outputs": [],
   "source": [
    "def simply_unary(topics, feedback, answers, n = 5):\n",
    "    # User profiles\n",
    "    user_profiles = user_profile_simply_unary(feedback, topics)\n",
    "\n",
    "    # Recommendations\n",
    "    prediction = initialize_recommendations(feedback, n)\n",
    "\n",
    "    # For each user profile\n",
    "    for user_index, user_profile in enumerate(user_profiles):\n",
    "        user = feedback.columns[user_index]\n",
    "        \n",
    "        # Skip if no feedback data is provided by the user\n",
    "        if not np.any(feedback.values[:, user_index]):\n",
    "            continue\n",
    "\n",
    "        # Calculate cosine similarities\n",
    "        cosine_similarities = calculate_cosine_similarity(user_profile, topics.values)\n",
    "\n",
    "        # Get top recommendations\n",
    "        top_recommendations = get_top_recommendations(user, feedback, topics, cosine_similarities, n)\n",
    "\n",
    "        # Add top recommendations to the dictionary\n",
    "        prediction[user] = top_recommendations\n",
    "        \n",
    "    return prediction"
   ]
  },
  {
   "cell_type": "code",
   "execution_count": 5,
   "id": "fdb9a7c5",
   "metadata": {
    "ExecuteTime": {
     "end_time": "2023-07-07T11:30:45.019699Z",
     "start_time": "2023-07-07T11:30:45.013383Z"
    }
   },
   "outputs": [
    {
     "data": {
      "text/plain": [
       "{'User 1': {12: 0.5039526306789697,\n",
       "  9: 0.4629100498862757,\n",
       "  3: 0.25197631533948484,\n",
       "  18: 0.1543033499620919,\n",
       "  11: 0.0},\n",
       " 'User 2': {14: 0.5833333333333333,\n",
       "  13: 0.5833333333333333,\n",
       "  20: 0.41666666666666663,\n",
       "  18: 0.35355339059327373,\n",
       "  15: 0.33333333333333337},\n",
       " 'User 3': {14: 0.2182178902359924,\n",
       "  19: 0.19518001458970663,\n",
       "  11: 0.12598815766974242,\n",
       "  20: 0.0,\n",
       "  2: 0.0},\n",
       " 'User 4': {1: nan, 2: nan, 3: nan, 4: nan, 5: nan}}"
      ]
     },
     "execution_count": 5,
     "metadata": {},
     "output_type": "execute_result"
    }
   ],
   "source": [
    "simply_unary(topics, feedback, answers, n = 5)"
   ]
  },
  {
   "cell_type": "markdown",
   "id": "688fe987-c21b-423b-aca9-772a17977c65",
   "metadata": {
    "nbgrader": {
     "cell_type": "markdown",
     "checksum": "7b04a232b90979052fcba2007f999bf0",
     "grade": false,
     "grade_id": "cell-534ae70f466db35b",
     "locked": true,
     "schema_version": 3,
     "solution": false,
     "task": false
    },
    "tags": []
   },
   "source": [
    "# Summary of the `unit_weight` Function\n",
    "\n",
    "The `unit_weight` function generates personalized item recommendations for users based on a content-based filtering approach. Here, the user profiles are created using the unit weight method, where all items are treated as equally important.\n",
    "\n",
    "## Detailed Function Operations:\n",
    "\n",
    "1. **Topics Normalization**: The topics are normalized using the `normalize_topic` function. The normalized topics are stored in `topics_normalized`.\n",
    "\n",
    "2. **User Profiles Generation**: User profiles are generated using the `user_profile_unit_weight` function, which considers all items as equally important. \n",
    "\n",
    "3. **Recommendations Initialization**: A dictionary named `prediction` is initialized to store the recommendations, using the `initialize_recommendations` function.\n",
    "\n",
    "4. **Recommendations Calculation**: For each user profile, the following steps are executed:\n",
    "   - If the user has not provided any feedback (feedback values are all zero), the function skips to the next user.\n",
    "   - If the user has provided feedback, cosine similarity between the user's profile and the topics is calculated. The `calculate_cosine_similarity` function is used for this purpose.\n",
    "   - The top `n` recommendations for the user are then determined using the `get_top_recommendations` function.\n",
    "\n",
    "5. **Return Recommendations**: The function returns the `prediction` dictionary where each key-value pair corresponds to a user and their corresponding item recommendations.\n",
    "\n",
    "The `unit_weight` function is a content-based recommendation system where the importance of each item is considered equal in user profile generation. It ensures that no particular item is favored due to frequency or other characteristics.\n"
   ]
  },
  {
   "cell_type": "code",
   "execution_count": 6,
   "id": "54f192de-82f7-4c5e-9378-97f57e49dcfb",
   "metadata": {
    "ExecuteTime": {
     "end_time": "2023-07-07T11:30:45.024225Z",
     "start_time": "2023-07-07T11:30:45.020701Z"
    },
    "nbgrader": {
     "cell_type": "code",
     "checksum": "1ef4e98d7cd0592e06a6a8d0f9eab74f",
     "grade": false,
     "grade_id": "ex2",
     "locked": false,
     "schema_version": 3,
     "solution": true,
     "task": false
    },
    "tags": []
   },
   "outputs": [],
   "source": [
    "def unit_weight(topics, feedback, answers, n = 5):\n",
    "    # Normalized topics\n",
    "    topics_normalized =  topics.apply(normalize_topic, axis=1)\n",
    "    \n",
    "    # User profiles\n",
    "    user_profiles = user_profile_unit_weight(feedback, topics_normalized)\n",
    "\n",
    "    # Recommendations\n",
    "    prediction = initialize_recommendations(feedback, n)\n",
    "\n",
    "    # For each user profile\n",
    "    for user_index, user_profile in enumerate(user_profiles):\n",
    "        user = feedback.columns[user_index]\n",
    "        \n",
    "        # Skip if no feedback data is provided by the user\n",
    "        if not np.any(feedback.values[:, user_index]):\n",
    "            continue\n",
    "\n",
    "        # Calculate cosine similarities\n",
    "        cosine_similarities = calculate_cosine_similarity(user_profile, topics.values)\n",
    "\n",
    "        # Get top recommendations\n",
    "        top_recommendations = get_top_recommendations(user, feedback, topics, cosine_similarities, n)\n",
    "\n",
    "        # Add top recommendations to the dictionary\n",
    "        prediction[user] = top_recommendations\n",
    "        \n",
    "    return prediction"
   ]
  },
  {
   "cell_type": "code",
   "execution_count": 7,
   "id": "8a9c9e64",
   "metadata": {
    "ExecuteTime": {
     "end_time": "2023-07-07T11:30:45.032757Z",
     "start_time": "2023-07-07T11:30:45.025227Z"
    }
   },
   "outputs": [
    {
     "data": {
      "text/plain": [
       "{'User 1': {12: 0.573440594836071,\n",
       "  9: 0.44537266138789555,\n",
       "  3: 0.32867936533287,\n",
       "  18: 0.29977006054954514,\n",
       "  15: 0.12112539577787733},\n",
       " 'User 2': {13: 0.6055546454048788,\n",
       "  14: 0.5891883036371793,\n",
       "  20: 0.3982476496806861,\n",
       "  18: 0.3471825374147067,\n",
       "  8: 0.3327822826098884},\n",
       " 'User 3': {14: 0.19943100880436643,\n",
       "  19: 0.10192943828752511,\n",
       "  11: 0.09869275424396537,\n",
       "  10: 0.0,\n",
       "  18: 0.0},\n",
       " 'User 4': {1: nan, 2: nan, 3: nan, 4: nan, 5: nan}}"
      ]
     },
     "execution_count": 7,
     "metadata": {},
     "output_type": "execute_result"
    }
   ],
   "source": [
    "unit_weight(topics, feedback, answers, n = 5)"
   ]
  },
  {
   "cell_type": "markdown",
   "id": "e60e1794-f0d2-4fcb-95b7-ab78e7792e9d",
   "metadata": {
    "nbgrader": {
     "cell_type": "markdown",
     "checksum": "e8c12b9db0d1ca5d03d75af5b0375037",
     "grade": false,
     "grade_id": "cell-fb3a68a35b896d4e",
     "locked": true,
     "schema_version": 3,
     "solution": false,
     "task": false
    },
    "tags": []
   },
   "source": [
    "# Summary of the `idf` Function\n",
    "\n",
    "The `idf` function is designed for personalized item recommendations for users. The function utilizes a content-based filtering approach, using cosine similarity between normalized topics and user profiles generated using IDF (Inverse Document Frequency).\n",
    "\n",
    "## Detailed Function Operations:\n",
    "\n",
    "1. **Topics Normalization**: The topics are normalized using the `normalize_topic` function.\n",
    "\n",
    "2. **Recommendations Initialization**: A dictionary called `prediction` is initialized for storing the recommendations. This is achieved using the `initialize_recommendations` function.\n",
    "\n",
    "3. **User Profiles Generation**: User profiles are created with the `generate_user_profiles_idf` function that takes feedback and topics as arguments.\n",
    "\n",
    "4. **Recommendations Calculation**: For each user, the following steps are performed:\n",
    "   - If the user has not provided any feedback (user profile is zero), the function skips to the next user.\n",
    "   - If the user has provided feedback, cosine similarity between the user's profile and the topics is calculated. Then, top `n` recommendations for the user are determined using the `get_top_recommendations` function.\n",
    "\n",
    "5. **Return Recommendations**: The function returns a dictionary named `prediction`, where each key-value pair corresponds to a user and their corresponding item recommendations, respectively.\n",
    "\n",
    "In the `idf` function, recommendations are made based on individual user's profile similarity to the topics, employing content-based filtering with IDF.\n"
   ]
  },
  {
   "cell_type": "code",
   "execution_count": 8,
   "id": "54fee7e7-b714-4ad5-8a51-4160b42b5081",
   "metadata": {
    "ExecuteTime": {
     "end_time": "2023-07-07T11:30:45.037001Z",
     "start_time": "2023-07-07T11:30:45.033759Z"
    },
    "nbgrader": {
     "cell_type": "code",
     "checksum": "aab54adee802b1062c017c4f95f085b3",
     "grade": false,
     "grade_id": "ex3",
     "locked": false,
     "schema_version": 3,
     "solution": true,
     "task": false
    },
    "tags": []
   },
   "outputs": [],
   "source": [
    "def idf(topics, feedback, answers, n = 5):\n",
    "        # Normalized topics\n",
    "    normalized_topics = normalize_topic(topics)\n",
    "\n",
    "    # Recommendations\n",
    "    prediction = initialize_recommendations(feedback, n)\n",
    "\n",
    "    # User profiles\n",
    "    user_profiles = generate_user_profiles_idf(feedback, topics)\n",
    "\n",
    "    for user in feedback.columns:\n",
    "        user_profile = user_profiles.loc[user]\n",
    "\n",
    "        # Skip if no feedback data is provided by the user\n",
    "        if np.count_nonzero(user_profile) == 0:\n",
    "            continue\n",
    "\n",
    "        # Calculate cosine similarities\n",
    "        cosine_similarities = calculate_cosine_similarity(user_profile, topics.values)\n",
    "\n",
    "        # Get top recommendations\n",
    "        top_recommendations = get_top_recommendations(user, feedback, topics, cosine_similarities, n)\n",
    "\n",
    "        # Add top recommendations to the dictionary\n",
    "        prediction[user] = top_recommendations\n",
    "        \n",
    "    return prediction"
   ]
  },
  {
   "cell_type": "code",
   "execution_count": 9,
   "id": "3159e51e",
   "metadata": {
    "ExecuteTime": {
     "end_time": "2023-07-07T11:30:45.049893Z",
     "start_time": "2023-07-07T11:30:45.039004Z"
    }
   },
   "outputs": [
    {
     "data": {
      "text/plain": [
       "{'User 1': {12: 0.6220964030285525,\n",
       "  9: 0.3607507382998098,\n",
       "  3: 0.235026926619344,\n",
       "  18: 0.18160089887636754,\n",
       "  15: 0.07215622694738955},\n",
       " 'User 2': {13: 0.44450958478739583,\n",
       "  14: 0.42657220389526124,\n",
       "  7: 0.26367435403517137,\n",
       "  20: 0.22113044829984108,\n",
       "  18: 0.18894325836321604},\n",
       " 'User 3': {14: 0.15331890699084647,\n",
       "  19: 0.08118849750532613,\n",
       "  11: 0.05338958795650429,\n",
       "  10: 0.01583125298640302,\n",
       "  18: 0.0},\n",
       " 'User 4': {1: nan, 2: nan, 3: nan, 4: nan, 5: nan}}"
      ]
     },
     "execution_count": 9,
     "metadata": {},
     "output_type": "execute_result"
    }
   ],
   "source": [
    "idf(topics, feedback, answers, n = 5)"
   ]
  },
  {
   "cell_type": "markdown",
   "id": "3016a49e-502b-447f-b9b5-619e108f4593",
   "metadata": {
    "nbgrader": {
     "cell_type": "markdown",
     "checksum": "bc651e78eaf067712748ef3896f5d67a",
     "grade": false,
     "grade_id": "cell-419b0ebbe53f2e6b",
     "locked": true,
     "schema_version": 3,
     "solution": false,
     "task": false
    },
    "tags": []
   },
   "source": [
    "# Summary of the `switch` Function\n",
    "\n",
    "The `switch` function generates personalized and non-personalized recommendations for users based on their feedback. This function combines content-based filtering and a fallback non-personalized recommendation approach.\n",
    "\n",
    "## Detailed Function Operations:\n",
    "\n",
    "1. **User Profiles Generation**: User profiles are generated from the provided feedback and topics using the `generate_user_profiles_idf` function.\n",
    "\n",
    "2. **Recommendations Calculation**: For each user in the feedback data, the function performs the following steps:\n",
    "   - If a user has **no feedback**, a non-personalized recommendation is generated with the `non_personalized_recommendation` function and added to the predictions dictionary. The function then moves to the next user.\n",
    "   - If a user has provided feedback, their user profile is used to calculate cosine similarities between the user's profile and the topics. These similarities are then used to get the top `n` recommendations for that user with the `get_top_recommendations` function.\n",
    "\n",
    "3. **Return Recommendations**: The function returns a dictionary named `prediction` where each key-value pair corresponds to a user and their corresponding item recommendations.\n",
    "\n",
    "The `switch` function uses non-personalized recommendations as a fallback for new users or users who have not given any feedback, addressing the cold start problem. For users with feedback, it uses content-based filtering employing cosine similarity measures.\n"
   ]
  },
  {
   "cell_type": "code",
   "execution_count": 10,
   "id": "f9f37cf1-d49b-4c50-ac0b-eaf25f1ca5e1",
   "metadata": {
    "ExecuteTime": {
     "end_time": "2023-07-07T11:30:45.054287Z",
     "start_time": "2023-07-07T11:30:45.050895Z"
    },
    "code_folding": [],
    "nbgrader": {
     "cell_type": "code",
     "checksum": "0fbf3a9cefddf3fa57ec0f31ff162047",
     "grade": false,
     "grade_id": "ex4",
     "locked": false,
     "schema_version": 3,
     "solution": true,
     "task": false
    },
    "tags": []
   },
   "outputs": [],
   "source": [
    "def switch(topics, feedback, answers, n=5):\n",
    "    # Initialize recommendations\n",
    "    prediction = {}\n",
    "\n",
    "    # User profiles\n",
    "    user_profiles = generate_user_profiles_idf(feedback, topics)\n",
    "\n",
    "    for user in feedback.columns:\n",
    "        user_profile = user_profiles.loc[user]\n",
    "\n",
    "        # Check if user has no feedback (sum of feedback = 0)\n",
    "        if feedback[user].sum() == 0:\n",
    "            # Non-personalized recommendation for user with no feedback\n",
    "            recommendation = non_personalized_recommendation(feedback, n)\n",
    "            prediction[user] = recommendation\n",
    "            continue\n",
    "\n",
    "        # Calculate cosine similarities\n",
    "        cosine_similarities = calculate_cosine_similarity(user_profile, topics.values)\n",
    "\n",
    "        # Get top recommendations\n",
    "        top_recommendations = get_top_recommendations(user, feedback, topics, cosine_similarities, n)\n",
    "\n",
    "        # Add top recommendations to the dictionary\n",
    "        prediction[user] = top_recommendations\n",
    "        \n",
    "    return prediction"
   ]
  },
  {
   "cell_type": "code",
   "execution_count": 11,
   "id": "f56888fd",
   "metadata": {
    "ExecuteTime": {
     "end_time": "2023-07-07T11:30:45.067016Z",
     "start_time": "2023-07-07T11:30:45.055288Z"
    }
   },
   "outputs": [
    {
     "data": {
      "text/plain": [
       "{'User 1': {12: 0.6220964030285525,\n",
       "  9: 0.3607507382998098,\n",
       "  3: 0.235026926619344,\n",
       "  18: 0.18160089887636754,\n",
       "  15: 0.07215622694738955},\n",
       " 'User 2': {13: 0.44450958478739583,\n",
       "  14: 0.42657220389526124,\n",
       "  7: 0.26367435403517137,\n",
       "  20: 0.22113044829984108,\n",
       "  18: 0.18894325836321604},\n",
       " 'User 3': {14: 0.15331890699084647,\n",
       "  19: 0.08118849750532613,\n",
       "  11: 0.05338958795650429,\n",
       "  10: 0.01583125298640302,\n",
       "  18: 0.0},\n",
       " 'User 4': {4: 0.0625, 5: 0.0625, 6: 0.0625, 8: 0.0625, 17: 0.0625}}"
      ]
     },
     "execution_count": 11,
     "metadata": {},
     "output_type": "execute_result"
    }
   ],
   "source": [
    "switch(topics, feedback, answers, n=5)"
   ]
  },
  {
   "cell_type": "markdown",
   "id": "ff114724-4eee-41f6-bacf-e66d84e42c1e",
   "metadata": {
    "nbgrader": {
     "cell_type": "markdown",
     "checksum": "7ea39bd8b9d9714f02e1986b0dc81c10",
     "grade": false,
     "grade_id": "cell-2daf8abb1192f71f",
     "locked": true,
     "schema_version": 3,
     "solution": false,
     "task": false
    },
    "tags": []
   },
   "source": [
    "# Summary of the `hybrid` Function\n",
    "\n",
    "The `hybrid` function performs a hybrid recommendation by combining content-based and collaborative filtering methods. It recommends items for each user based on user profiles, a super user profile, and user feedback.\n",
    "\n",
    "\n",
    "## Detailed Function Operations:\n",
    "\n",
    "1. **User Profiles Generation**: User profiles are generated using the `generate_user_profiles_idf` function that utilizes user feedback and topics.\n",
    "\n",
    "2. **Super User Profile Generation**: A super user profile is generated with `generate_super_user_profile` function. This profile acts as a default option for users who have not given any feedback (the cold start problem).\n",
    "\n",
    "3. **Recommendations Calculation**: For each user, the function checks whether they've given any feedback:\n",
    "   - For users with **no feedback** (cold start condition), the cosine similarity is calculated between the super user profile and topics. Then, top `n` recommendations for the super user are determined using the cosine similarity values. These recommendations are also utilized for the users with no feedback.\n",
    "   - For users with feedback, the function calculates top `n` recommendations using both methods: **content-based** (via `idf` function) and **collaborative filtering** (via `get_collaborative_recommendations` function). The recommendations from both methods are then weighted using the `weight_recommendations` function.\n",
    "\n",
    "4. **Return Recommendations**: The function returns a dictionary named `prediction` where each key-value pair corresponds to a user and their corresponding item recommendations, respectively.\n",
    "\n",
    "The hybrid approach in `hybrid` function helps to tackle the cold start problem (new users with no feedback) and leverages both individual user preferences and similarities among different users to make recommendations.\n"
   ]
  },
  {
   "cell_type": "code",
   "execution_count": 12,
   "id": "b1719a35-0401-40fd-b5d8-af61712b0544",
   "metadata": {
    "ExecuteTime": {
     "end_time": "2023-07-07T11:30:45.071711Z",
     "start_time": "2023-07-07T11:30:45.068019Z"
    },
    "nbgrader": {
     "cell_type": "code",
     "checksum": "860160a31c834aedb303d650652294da",
     "grade": true,
     "grade_id": "ex5",
     "locked": false,
     "points": 2,
     "schema_version": 3,
     "solution": true,
     "task": false
    },
    "tags": []
   },
   "outputs": [],
   "source": [
    "def hybrid(topics, feedback, answers, n = 5):\n",
    "    \n",
    "    user_profiles = generate_user_profiles_idf(feedback, topics)  \n",
    "    # Generate super user profile\n",
    "    super_user_profile = generate_super_user_profile(feedback, user_profiles)\n",
    "    \n",
    "    # Calculate recommendations using both methods for each user\n",
    "    prediction = {}\n",
    "    for user in feedback.columns:\n",
    "        # Check if user has no feedback (cold start condition)\n",
    "        if feedback[user].sum() == 0:\n",
    "            # Calculate cosine similarities for super user\n",
    "            cosine_similarity_super_user = calculate_cosine_similarity(super_user_profile[0], topics.values)\n",
    "            \n",
    "            # Use the cosine similarity to get top N recommendations for the super user\n",
    "            super_user_recommendations = get_top_recommendations('super_user', feedback, topics, cosine_similarity_super_user, n)\n",
    "            \n",
    "            # For users with no feedback, we will recommend the same as we would to the super user.\n",
    "            prediction[user] = super_user_recommendations\n",
    "        else:          \n",
    "            content_based = idf(topics, feedback, answers, n)\n",
    "            collaborative = get_collaborative_recommendations(feedback, topics, n)\n",
    "        \n",
    "            # Weight the recommendations from both methods using the predefined function\n",
    "            prediction[user] = weight_recommendations(user, content_based, collaborative)\n",
    "            \n",
    "    return prediction"
   ]
  },
  {
   "cell_type": "code",
   "execution_count": 13,
   "id": "7a4973e3",
   "metadata": {
    "ExecuteTime": {
     "end_time": "2023-07-07T11:30:45.115541Z",
     "start_time": "2023-07-07T11:30:45.072713Z"
    }
   },
   "outputs": [
    {
     "data": {
      "text/plain": [
       "{'User 1': {12: 0.3732578418171315,\n",
       "  9: 0.2164504429798859,\n",
       "  3: 0.14101615597160638,\n",
       "  4: 0.13333333333333333,\n",
       "  5: 0.13333333333333333},\n",
       " 'User 2': {13: 0.2667057508724375,\n",
       "  14: 0.2559433223371567,\n",
       "  7: 0.1582046124211028,\n",
       "  5: 0.13333333333333333,\n",
       "  6: 0.13333333333333333},\n",
       " 'User 3': {4: 0.13333333333333333,\n",
       "  6: 0.13333333333333333,\n",
       "  17: 0.13333333333333333,\n",
       "  14: 0.09199134419450787,\n",
       "  19: 0.048713098503195676},\n",
       " 'User 4': {14: 0.49151396704795686,\n",
       "  18: 0.3457474079582128,\n",
       "  17: 0.2770199027616932,\n",
       "  2: 0.2770199027616932,\n",
       "  5: 0.22431530360921015}}"
      ]
     },
     "execution_count": 13,
     "metadata": {},
     "output_type": "execute_result"
    }
   ],
   "source": [
    "hybrid(topics, feedback, answers, n = 5)"
   ]
  }
 ],
 "metadata": {
  "kernelspec": {
   "display_name": "Python 3 (ipykernel)",
   "language": "python",
   "name": "python3"
  },
  "language_info": {
   "codemirror_mode": {
    "name": "ipython",
    "version": 3
   },
   "file_extension": ".py",
   "mimetype": "text/x-python",
   "name": "python",
   "nbconvert_exporter": "python",
   "pygments_lexer": "ipython3",
   "version": "3.11.3"
  },
  "toc": {
   "base_numbering": 1,
   "nav_menu": {},
   "number_sections": true,
   "sideBar": true,
   "skip_h1_title": false,
   "title_cell": "Table of Contents",
   "title_sidebar": "Contents",
   "toc_cell": false,
   "toc_position": {},
   "toc_section_display": true,
   "toc_window_display": false
  },
  "varInspector": {
   "cols": {
    "lenName": 16,
    "lenType": 16,
    "lenVar": 40
   },
   "kernels_config": {
    "python": {
     "delete_cmd_postfix": "",
     "delete_cmd_prefix": "del ",
     "library": "var_list.py",
     "varRefreshCmd": "print(var_dic_list())"
    },
    "r": {
     "delete_cmd_postfix": ") ",
     "delete_cmd_prefix": "rm(",
     "library": "var_list.r",
     "varRefreshCmd": "cat(var_dic_list()) "
    }
   },
   "types_to_exclude": [
    "module",
    "function",
    "builtin_function_or_method",
    "instance",
    "_Feature"
   ],
   "window_display": false
  }
 },
 "nbformat": 4,
 "nbformat_minor": 5
}
