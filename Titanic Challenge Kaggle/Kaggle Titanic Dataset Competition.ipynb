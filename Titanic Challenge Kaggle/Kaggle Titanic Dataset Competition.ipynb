{
 "cells": [
  {
   "cell_type": "markdown",
   "id": "45a26c73",
   "metadata": {},
   "source": [
    "<div class=\"alert alert-info\">\n",
    "<b>Problem statement:</b>\n",
    "\n",
    "Based on the given data, we need to train, and evaluate machine learning models capable of indentifying (```binary classification```) passengers who would be transported to an alternate dimension on collission with a space time anamoly\n",
    "</div>"
   ]
  },
  {
   "cell_type": "code",
   "execution_count": 1,
   "id": "4d2529d2",
   "metadata": {
    "ExecuteTime": {
     "end_time": "2023-07-02T13:03:05.294572Z",
     "start_time": "2023-07-02T13:03:04.257942Z"
    }
   },
   "outputs": [],
   "source": [
    "# Import basic requied packages\n",
    "import pandas as pd\n",
    "import numpy as np\n",
    "import matplotlib.pyplot as plt\n",
    "import seaborn as sns\n",
    "import matplotlib.colors as mcolors"
   ]
  },
  {
   "cell_type": "code",
   "execution_count": 2,
   "id": "f9efb087",
   "metadata": {
    "ExecuteTime": {
     "end_time": "2023-07-02T13:03:05.337550Z",
     "start_time": "2023-07-02T13:03:05.295595Z"
    }
   },
   "outputs": [
    {
     "name": "stdout",
     "output_type": "stream",
     "text": [
      "Training set\n"
     ]
    },
    {
     "data": {
      "text/html": [
       "<div>\n",
       "<style scoped>\n",
       "    .dataframe tbody tr th:only-of-type {\n",
       "        vertical-align: middle;\n",
       "    }\n",
       "\n",
       "    .dataframe tbody tr th {\n",
       "        vertical-align: top;\n",
       "    }\n",
       "\n",
       "    .dataframe thead th {\n",
       "        text-align: right;\n",
       "    }\n",
       "</style>\n",
       "<table border=\"1\" class=\"dataframe\">\n",
       "  <thead>\n",
       "    <tr style=\"text-align: right;\">\n",
       "      <th></th>\n",
       "      <th>PassengerId</th>\n",
       "      <th>HomePlanet</th>\n",
       "      <th>CryoSleep</th>\n",
       "      <th>Cabin</th>\n",
       "      <th>Destination</th>\n",
       "      <th>Age</th>\n",
       "      <th>VIP</th>\n",
       "      <th>RoomService</th>\n",
       "      <th>FoodCourt</th>\n",
       "      <th>ShoppingMall</th>\n",
       "      <th>Spa</th>\n",
       "      <th>VRDeck</th>\n",
       "      <th>Name</th>\n",
       "      <th>Transported</th>\n",
       "    </tr>\n",
       "  </thead>\n",
       "  <tbody>\n",
       "    <tr>\n",
       "      <th>0</th>\n",
       "      <td>0001_01</td>\n",
       "      <td>Europa</td>\n",
       "      <td>False</td>\n",
       "      <td>B/0/P</td>\n",
       "      <td>TRAPPIST-1e</td>\n",
       "      <td>39.0</td>\n",
       "      <td>False</td>\n",
       "      <td>0.0</td>\n",
       "      <td>0.0</td>\n",
       "      <td>0.0</td>\n",
       "      <td>0.0</td>\n",
       "      <td>0.0</td>\n",
       "      <td>Maham Ofracculy</td>\n",
       "      <td>False</td>\n",
       "    </tr>\n",
       "    <tr>\n",
       "      <th>1</th>\n",
       "      <td>0002_01</td>\n",
       "      <td>Earth</td>\n",
       "      <td>False</td>\n",
       "      <td>F/0/S</td>\n",
       "      <td>TRAPPIST-1e</td>\n",
       "      <td>24.0</td>\n",
       "      <td>False</td>\n",
       "      <td>109.0</td>\n",
       "      <td>9.0</td>\n",
       "      <td>25.0</td>\n",
       "      <td>549.0</td>\n",
       "      <td>44.0</td>\n",
       "      <td>Juanna Vines</td>\n",
       "      <td>True</td>\n",
       "    </tr>\n",
       "    <tr>\n",
       "      <th>2</th>\n",
       "      <td>0003_01</td>\n",
       "      <td>Europa</td>\n",
       "      <td>False</td>\n",
       "      <td>A/0/S</td>\n",
       "      <td>TRAPPIST-1e</td>\n",
       "      <td>58.0</td>\n",
       "      <td>True</td>\n",
       "      <td>43.0</td>\n",
       "      <td>3576.0</td>\n",
       "      <td>0.0</td>\n",
       "      <td>6715.0</td>\n",
       "      <td>49.0</td>\n",
       "      <td>Altark Susent</td>\n",
       "      <td>False</td>\n",
       "    </tr>\n",
       "    <tr>\n",
       "      <th>3</th>\n",
       "      <td>0003_02</td>\n",
       "      <td>Europa</td>\n",
       "      <td>False</td>\n",
       "      <td>A/0/S</td>\n",
       "      <td>TRAPPIST-1e</td>\n",
       "      <td>33.0</td>\n",
       "      <td>False</td>\n",
       "      <td>0.0</td>\n",
       "      <td>1283.0</td>\n",
       "      <td>371.0</td>\n",
       "      <td>3329.0</td>\n",
       "      <td>193.0</td>\n",
       "      <td>Solam Susent</td>\n",
       "      <td>False</td>\n",
       "    </tr>\n",
       "    <tr>\n",
       "      <th>4</th>\n",
       "      <td>0004_01</td>\n",
       "      <td>Earth</td>\n",
       "      <td>False</td>\n",
       "      <td>F/1/S</td>\n",
       "      <td>TRAPPIST-1e</td>\n",
       "      <td>16.0</td>\n",
       "      <td>False</td>\n",
       "      <td>303.0</td>\n",
       "      <td>70.0</td>\n",
       "      <td>151.0</td>\n",
       "      <td>565.0</td>\n",
       "      <td>2.0</td>\n",
       "      <td>Willy Santantines</td>\n",
       "      <td>True</td>\n",
       "    </tr>\n",
       "  </tbody>\n",
       "</table>\n",
       "</div>"
      ],
      "text/plain": [
       "  PassengerId HomePlanet CryoSleep  Cabin  Destination   Age    VIP   \n",
       "0     0001_01     Europa     False  B/0/P  TRAPPIST-1e  39.0  False  \\\n",
       "1     0002_01      Earth     False  F/0/S  TRAPPIST-1e  24.0  False   \n",
       "2     0003_01     Europa     False  A/0/S  TRAPPIST-1e  58.0   True   \n",
       "3     0003_02     Europa     False  A/0/S  TRAPPIST-1e  33.0  False   \n",
       "4     0004_01      Earth     False  F/1/S  TRAPPIST-1e  16.0  False   \n",
       "\n",
       "   RoomService  FoodCourt  ShoppingMall     Spa  VRDeck               Name   \n",
       "0          0.0        0.0           0.0     0.0     0.0    Maham Ofracculy  \\\n",
       "1        109.0        9.0          25.0   549.0    44.0       Juanna Vines   \n",
       "2         43.0     3576.0           0.0  6715.0    49.0      Altark Susent   \n",
       "3          0.0     1283.0         371.0  3329.0   193.0       Solam Susent   \n",
       "4        303.0       70.0         151.0   565.0     2.0  Willy Santantines   \n",
       "\n",
       "   Transported  \n",
       "0        False  \n",
       "1         True  \n",
       "2        False  \n",
       "3        False  \n",
       "4         True  "
      ]
     },
     "metadata": {},
     "output_type": "display_data"
    },
    {
     "name": "stdout",
     "output_type": "stream",
     "text": [
      "Train set shape (8693, 14)\n",
      "\n",
      "\n",
      "Test set\n"
     ]
    },
    {
     "data": {
      "text/html": [
       "<div>\n",
       "<style scoped>\n",
       "    .dataframe tbody tr th:only-of-type {\n",
       "        vertical-align: middle;\n",
       "    }\n",
       "\n",
       "    .dataframe tbody tr th {\n",
       "        vertical-align: top;\n",
       "    }\n",
       "\n",
       "    .dataframe thead th {\n",
       "        text-align: right;\n",
       "    }\n",
       "</style>\n",
       "<table border=\"1\" class=\"dataframe\">\n",
       "  <thead>\n",
       "    <tr style=\"text-align: right;\">\n",
       "      <th></th>\n",
       "      <th>PassengerId</th>\n",
       "      <th>HomePlanet</th>\n",
       "      <th>CryoSleep</th>\n",
       "      <th>Cabin</th>\n",
       "      <th>Destination</th>\n",
       "      <th>Age</th>\n",
       "      <th>VIP</th>\n",
       "      <th>RoomService</th>\n",
       "      <th>FoodCourt</th>\n",
       "      <th>ShoppingMall</th>\n",
       "      <th>Spa</th>\n",
       "      <th>VRDeck</th>\n",
       "      <th>Name</th>\n",
       "    </tr>\n",
       "  </thead>\n",
       "  <tbody>\n",
       "    <tr>\n",
       "      <th>0</th>\n",
       "      <td>0013_01</td>\n",
       "      <td>Earth</td>\n",
       "      <td>True</td>\n",
       "      <td>G/3/S</td>\n",
       "      <td>TRAPPIST-1e</td>\n",
       "      <td>27.0</td>\n",
       "      <td>False</td>\n",
       "      <td>0.0</td>\n",
       "      <td>0.0</td>\n",
       "      <td>0.0</td>\n",
       "      <td>0.0</td>\n",
       "      <td>0.0</td>\n",
       "      <td>Nelly Carsoning</td>\n",
       "    </tr>\n",
       "    <tr>\n",
       "      <th>1</th>\n",
       "      <td>0018_01</td>\n",
       "      <td>Earth</td>\n",
       "      <td>False</td>\n",
       "      <td>F/4/S</td>\n",
       "      <td>TRAPPIST-1e</td>\n",
       "      <td>19.0</td>\n",
       "      <td>False</td>\n",
       "      <td>0.0</td>\n",
       "      <td>9.0</td>\n",
       "      <td>0.0</td>\n",
       "      <td>2823.0</td>\n",
       "      <td>0.0</td>\n",
       "      <td>Lerome Peckers</td>\n",
       "    </tr>\n",
       "    <tr>\n",
       "      <th>2</th>\n",
       "      <td>0019_01</td>\n",
       "      <td>Europa</td>\n",
       "      <td>True</td>\n",
       "      <td>C/0/S</td>\n",
       "      <td>55 Cancri e</td>\n",
       "      <td>31.0</td>\n",
       "      <td>False</td>\n",
       "      <td>0.0</td>\n",
       "      <td>0.0</td>\n",
       "      <td>0.0</td>\n",
       "      <td>0.0</td>\n",
       "      <td>0.0</td>\n",
       "      <td>Sabih Unhearfus</td>\n",
       "    </tr>\n",
       "    <tr>\n",
       "      <th>3</th>\n",
       "      <td>0021_01</td>\n",
       "      <td>Europa</td>\n",
       "      <td>False</td>\n",
       "      <td>C/1/S</td>\n",
       "      <td>TRAPPIST-1e</td>\n",
       "      <td>38.0</td>\n",
       "      <td>False</td>\n",
       "      <td>0.0</td>\n",
       "      <td>6652.0</td>\n",
       "      <td>0.0</td>\n",
       "      <td>181.0</td>\n",
       "      <td>585.0</td>\n",
       "      <td>Meratz Caltilter</td>\n",
       "    </tr>\n",
       "    <tr>\n",
       "      <th>4</th>\n",
       "      <td>0023_01</td>\n",
       "      <td>Earth</td>\n",
       "      <td>False</td>\n",
       "      <td>F/5/S</td>\n",
       "      <td>TRAPPIST-1e</td>\n",
       "      <td>20.0</td>\n",
       "      <td>False</td>\n",
       "      <td>10.0</td>\n",
       "      <td>0.0</td>\n",
       "      <td>635.0</td>\n",
       "      <td>0.0</td>\n",
       "      <td>0.0</td>\n",
       "      <td>Brence Harperez</td>\n",
       "    </tr>\n",
       "  </tbody>\n",
       "</table>\n",
       "</div>"
      ],
      "text/plain": [
       "  PassengerId HomePlanet CryoSleep  Cabin  Destination   Age    VIP   \n",
       "0     0013_01      Earth      True  G/3/S  TRAPPIST-1e  27.0  False  \\\n",
       "1     0018_01      Earth     False  F/4/S  TRAPPIST-1e  19.0  False   \n",
       "2     0019_01     Europa      True  C/0/S  55 Cancri e  31.0  False   \n",
       "3     0021_01     Europa     False  C/1/S  TRAPPIST-1e  38.0  False   \n",
       "4     0023_01      Earth     False  F/5/S  TRAPPIST-1e  20.0  False   \n",
       "\n",
       "   RoomService  FoodCourt  ShoppingMall     Spa  VRDeck              Name  \n",
       "0          0.0        0.0           0.0     0.0     0.0   Nelly Carsoning  \n",
       "1          0.0        9.0           0.0  2823.0     0.0    Lerome Peckers  \n",
       "2          0.0        0.0           0.0     0.0     0.0   Sabih Unhearfus  \n",
       "3          0.0     6652.0           0.0   181.0   585.0  Meratz Caltilter  \n",
       "4         10.0        0.0         635.0     0.0     0.0   Brence Harperez  "
      ]
     },
     "metadata": {},
     "output_type": "display_data"
    },
    {
     "name": "stdout",
     "output_type": "stream",
     "text": [
      "Test set shape (4277, 13)\n",
      "\n",
      "\n"
     ]
    }
   ],
   "source": [
    "# Training set\n",
    "print(\"Training set\")\n",
    "train = pd.read_csv(\"DATA/train.csv\")\n",
    "display(train.head(5))\n",
    "print(\"Train set shape\",train.shape)\n",
    "print('\\n')\n",
    "print(\"Test set\")\n",
    "test = pd.read_csv(\"DATA/test.csv\")\n",
    "display(test.head(5))\n",
    "print(\"Test set shape\",test.shape)\n",
    "print('\\n')"
   ]
  },
  {
   "cell_type": "markdown",
   "id": "1c6f9b75",
   "metadata": {},
   "source": [
    "<div class=\"alert alert-info\" style=\"background-color: #FFB380;color: white;border-radius: 10px;\">\n",
    "    <h1>Exploratory Data Analysis</h1>\n",
    "</div>"
   ]
  },
  {
   "cell_type": "code",
   "execution_count": 3,
   "id": "ff0a1642",
   "metadata": {
    "ExecuteTime": {
     "end_time": "2023-07-02T13:03:05.343627Z",
     "start_time": "2023-07-02T13:03:05.338555Z"
    }
   },
   "outputs": [
    {
     "name": "stdout",
     "output_type": "stream",
     "text": [
      "Data types for all columns\n"
     ]
    },
    {
     "data": {
      "text/plain": [
       "PassengerId      object\n",
       "HomePlanet       object\n",
       "CryoSleep        object\n",
       "Cabin            object\n",
       "Destination      object\n",
       "Age             float64\n",
       "VIP              object\n",
       "RoomService     float64\n",
       "FoodCourt       float64\n",
       "ShoppingMall    float64\n",
       "Spa             float64\n",
       "VRDeck          float64\n",
       "Name             object\n",
       "Transported        bool\n",
       "dtype: object"
      ]
     },
     "metadata": {},
     "output_type": "display_data"
    },
    {
     "name": "stdout",
     "output_type": "stream",
     "text": [
      "\n",
      "\n",
      "object     7\n",
      "float64    6\n",
      "bool       1\n",
      "Name: count, dtype: int64\n"
     ]
    }
   ],
   "source": [
    "print(\"Data types for all columns\")\n",
    "display(train.dtypes)\n",
    "print('\\n')\n",
    "print(train.dtypes.value_counts())"
   ]
  },
  {
   "cell_type": "markdown",
   "id": "8ffa2466",
   "metadata": {},
   "source": [
    "<div class=\"alert alert-success\">\n",
    "<b>Inference:</b>\n",
    "\n",
    "1. We have 7 features with data type ```object```\n",
    "2. We have 6 features with data type ```float```\n",
    "3. We have 1 target variable with data type ```boolean```\n",
    "</div>\n",
    "\n",
    "<div class=\"alert alert-success\">\n",
    "<b>Feature descriptions:</b>\n",
    "\n",
    "1. ```PassengerId``` - A unique Id for each passenger. Each Id takes the form gggg_pp where gggg indicates a group the passenger is travelling with and pp is their number within the group. People in a group are often family members, but not always.\n",
    "2. ```HomePlanet``` - The planet the passenger departed from, typically their planet of permanent residence.\n",
    "3. ```CryoSleep``` - Indicates whether the passenger elected to be put into suspended animation for the duration of the voyage. Passengers in cryosleep are confined to their cabins.\n",
    "4. ```Cabin``` - The cabin number where the passenger is staying. Takes the form deck/num/side, where side can be either P for Port or S for Starboard.\n",
    "5. ```Destination``` - The planet the passenger will be debarking to.\n",
    "5. ```Age``` - The age of the passenger.\n",
    "6. ```VIP``` - Whether the passenger has paid for special VIP service during the voyage.\n",
    "7.```RoomService``` - Amount the passenger has billed at one of the Spaceship Titanic's luxury amenities.\n",
    "8. ```FoodCourt``` - Amount the passenger has billed at one of the Spaceship Titanic's luxury amenities.\n",
    "9. ```ShoppingMall``` - Amount the passenger has billed at one of the Spaceship Titanic's luxury amenities.\n",
    "10.```Spa``` - Amount the passenger has billed at one of the Spaceship Titanic's luxury amenities.\n",
    "11. ```VRDeck``` - Amount the passenger has billed at one of the Spaceship Titanic's luxury amenities.\n",
    "12. ```Name``` - The first and last names of the passenger.\n",
    "13. ```Transported``` - Whether the passenger was transported to another dimension. This is the target, the column you are trying to predict.\n",
    "\n",
    "</div>"
   ]
  },
  {
   "cell_type": "code",
   "execution_count": 4,
   "id": "d192b035",
   "metadata": {
    "ExecuteTime": {
     "end_time": "2023-07-02T13:03:05.410191Z",
     "start_time": "2023-07-02T13:03:05.344635Z"
    }
   },
   "outputs": [
    {
     "data": {
      "image/png": "[encoded data removed]",
      "text/plain": [
       "<Figure size 640x480 with 1 Axes>"
      ]
     },
     "metadata": {},
     "output_type": "display_data"
    }
   ],
   "source": [
    "# Number of observations in train and test datasets\n",
    "train_count = train.shape[0]\n",
    "test_count = test.shape[0]\n",
    "\n",
    "# Data for the pie chart\n",
    "labels = ['Train', 'Test']\n",
    "sizes = [train_count, test_count]\n",
    "colors = ['#6984B3', '#B1B1B1']\n",
    "\n",
    "# Create the pie chart\n",
    "plt.pie(sizes, labels=labels, colors=colors, autopct='%1.f%%', startangle=90)\n",
    "\n",
    "# Add a title\n",
    "plt.title('Observations in Train and Test Datasets')\n",
    "\n",
    "# Display the pie chart\n",
    "plt.axis('equal')  # Equal aspect ratio ensures that pie is drawn as a circle\n",
    "plt.show()"
   ]
  },
  {
   "cell_type": "code",
   "execution_count": 5,
   "id": "debde107",
   "metadata": {
    "ExecuteTime": {
     "end_time": "2023-07-02T13:03:05.440210Z",
     "start_time": "2023-07-02T13:03:05.410191Z"
    }
   },
   "outputs": [
    {
     "name": "stdout",
     "output_type": "stream",
     "text": [
      "Numeric columns \n",
      "\n",
      "=======================\n",
      "\n",
      "\n",
      "\u001b[1mArray of numerical columns\u001b[0m\n"
     ]
    },
    {
     "data": {
      "text/plain": [
       "Index(['Age', 'RoomService', 'FoodCourt', 'ShoppingMall', 'Spa', 'VRDeck'], dtype='object')"
      ]
     },
     "metadata": {},
     "output_type": "display_data"
    },
    {
     "name": "stdout",
     "output_type": "stream",
     "text": [
      "-----------------------\n",
      "\n",
      "\n",
      "\u001b[1mContent and data type\u001b[0m\n",
      "<class 'pandas.core.frame.DataFrame'>\n",
      "RangeIndex: 8693 entries, 0 to 8692\n",
      "Data columns (total 14 columns):\n",
      " #   Column        Non-Null Count  Dtype  \n",
      "---  ------        --------------  -----  \n",
      " 0   PassengerId   8693 non-null   object \n",
      " 1   HomePlanet    8492 non-null   object \n",
      " 2   CryoSleep     8476 non-null   object \n",
      " 3   Cabin         8494 non-null   object \n",
      " 4   Destination   8511 non-null   object \n",
      " 5   Age           8514 non-null   float64\n",
      " 6   VIP           8490 non-null   object \n",
      " 7   RoomService   8512 non-null   float64\n",
      " 8   FoodCourt     8510 non-null   float64\n",
      " 9   ShoppingMall  8485 non-null   float64\n",
      " 10  Spa           8510 non-null   float64\n",
      " 11  VRDeck        8505 non-null   float64\n",
      " 12  Name          8493 non-null   object \n",
      " 13  Transported   8693 non-null   bool   \n",
      "dtypes: bool(1), float64(6), object(7)\n",
      "memory usage: 891.5+ KB\n"
     ]
    },
    {
     "data": {
      "text/plain": [
       "None"
      ]
     },
     "metadata": {},
     "output_type": "display_data"
    },
    {
     "name": "stdout",
     "output_type": "stream",
     "text": [
      "-----------------------\n",
      "\n",
      "\n",
      "\u001b[1mDescriptive statistics\u001b[0m\n"
     ]
    },
    {
     "data": {
      "text/html": [
       "<div>\n",
       "<style scoped>\n",
       "    .dataframe tbody tr th:only-of-type {\n",
       "        vertical-align: middle;\n",
       "    }\n",
       "\n",
       "    .dataframe tbody tr th {\n",
       "        vertical-align: top;\n",
       "    }\n",
       "\n",
       "    .dataframe thead th {\n",
       "        text-align: right;\n",
       "    }\n",
       "</style>\n",
       "<table border=\"1\" class=\"dataframe\">\n",
       "  <thead>\n",
       "    <tr style=\"text-align: right;\">\n",
       "      <th></th>\n",
       "      <th>Age</th>\n",
       "      <th>RoomService</th>\n",
       "      <th>FoodCourt</th>\n",
       "      <th>ShoppingMall</th>\n",
       "      <th>Spa</th>\n",
       "      <th>VRDeck</th>\n",
       "    </tr>\n",
       "  </thead>\n",
       "  <tbody>\n",
       "    <tr>\n",
       "      <th>count</th>\n",
       "      <td>8514.000000</td>\n",
       "      <td>8512.000000</td>\n",
       "      <td>8510.000000</td>\n",
       "      <td>8485.000000</td>\n",
       "      <td>8510.000000</td>\n",
       "      <td>8505.000000</td>\n",
       "    </tr>\n",
       "    <tr>\n",
       "      <th>mean</th>\n",
       "      <td>28.827930</td>\n",
       "      <td>224.687617</td>\n",
       "      <td>458.077203</td>\n",
       "      <td>173.729169</td>\n",
       "      <td>311.138778</td>\n",
       "      <td>304.854791</td>\n",
       "    </tr>\n",
       "    <tr>\n",
       "      <th>std</th>\n",
       "      <td>14.489021</td>\n",
       "      <td>666.717663</td>\n",
       "      <td>1611.489240</td>\n",
       "      <td>604.696458</td>\n",
       "      <td>1136.705535</td>\n",
       "      <td>1145.717189</td>\n",
       "    </tr>\n",
       "    <tr>\n",
       "      <th>min</th>\n",
       "      <td>0.000000</td>\n",
       "      <td>0.000000</td>\n",
       "      <td>0.000000</td>\n",
       "      <td>0.000000</td>\n",
       "      <td>0.000000</td>\n",
       "      <td>0.000000</td>\n",
       "    </tr>\n",
       "    <tr>\n",
       "      <th>25%</th>\n",
       "      <td>19.000000</td>\n",
       "      <td>0.000000</td>\n",
       "      <td>0.000000</td>\n",
       "      <td>0.000000</td>\n",
       "      <td>0.000000</td>\n",
       "      <td>0.000000</td>\n",
       "    </tr>\n",
       "    <tr>\n",
       "      <th>50%</th>\n",
       "      <td>27.000000</td>\n",
       "      <td>0.000000</td>\n",
       "      <td>0.000000</td>\n",
       "      <td>0.000000</td>\n",
       "      <td>0.000000</td>\n",
       "      <td>0.000000</td>\n",
       "    </tr>\n",
       "    <tr>\n",
       "      <th>75%</th>\n",
       "      <td>38.000000</td>\n",
       "      <td>47.000000</td>\n",
       "      <td>76.000000</td>\n",
       "      <td>27.000000</td>\n",
       "      <td>59.000000</td>\n",
       "      <td>46.000000</td>\n",
       "    </tr>\n",
       "    <tr>\n",
       "      <th>max</th>\n",
       "      <td>79.000000</td>\n",
       "      <td>14327.000000</td>\n",
       "      <td>29813.000000</td>\n",
       "      <td>23492.000000</td>\n",
       "      <td>22408.000000</td>\n",
       "      <td>24133.000000</td>\n",
       "    </tr>\n",
       "  </tbody>\n",
       "</table>\n",
       "</div>"
      ],
      "text/plain": [
       "               Age   RoomService     FoodCourt  ShoppingMall           Spa   \n",
       "count  8514.000000   8512.000000   8510.000000   8485.000000   8510.000000  \\\n",
       "mean     28.827930    224.687617    458.077203    173.729169    311.138778   \n",
       "std      14.489021    666.717663   1611.489240    604.696458   1136.705535   \n",
       "min       0.000000      0.000000      0.000000      0.000000      0.000000   \n",
       "25%      19.000000      0.000000      0.000000      0.000000      0.000000   \n",
       "50%      27.000000      0.000000      0.000000      0.000000      0.000000   \n",
       "75%      38.000000     47.000000     76.000000     27.000000     59.000000   \n",
       "max      79.000000  14327.000000  29813.000000  23492.000000  22408.000000   \n",
       "\n",
       "             VRDeck  \n",
       "count   8505.000000  \n",
       "mean     304.854791  \n",
       "std     1145.717189  \n",
       "min        0.000000  \n",
       "25%        0.000000  \n",
       "50%        0.000000  \n",
       "75%       46.000000  \n",
       "max    24133.000000  "
      ]
     },
     "metadata": {},
     "output_type": "display_data"
    }
   ],
   "source": [
    "print('Numeric columns','\\n')\n",
    "print(\"=======================\")\n",
    "print('\\n')\n",
    "print(\"\\033[1mArray of numerical columns\\033[0m\")\n",
    "display(train.describe().columns)\n",
    "print(\"-----------------------\")\n",
    "print('\\n')\n",
    "print(\"\\033[1mContent and data type\\033[0m\")\n",
    "display(train.info())\n",
    "print(\"-----------------------\")\n",
    "print('\\n')\n",
    "print(\"\\033[1mDescriptive statistics\\033[0m\")\n",
    "display(train.describe())"
   ]
  },
  {
   "cell_type": "markdown",
   "id": "a3aedc3a",
   "metadata": {},
   "source": [
    "<div class=\"alert alert-success\">\n",
    "<b>Inference:</b>\n",
    "\n",
    "1. All numerical variables belong tot the ```money spent on the luxuries offered``` at the titanic spaceship, along with age of the passengers on board\n",
    "2. The ```spread of the numerical data``` is wide ranged suggesting suggesting further investigations as mean loses significance with a large difference in values, leading to inconclusive trend understanding\n",
    "</div>"
   ]
  },
  {
   "cell_type": "code",
   "execution_count": 6,
   "id": "3a1dd1b3",
   "metadata": {
    "ExecuteTime": {
     "end_time": "2023-07-02T13:03:05.453519Z",
     "start_time": "2023-07-02T13:03:05.440210Z"
    }
   },
   "outputs": [
    {
     "name": "stdout",
     "output_type": "stream",
     "text": [
      "Slice of dataframe with numeric columns\n"
     ]
    },
    {
     "data": {
      "text/html": [
       "<div>\n",
       "<style scoped>\n",
       "    .dataframe tbody tr th:only-of-type {\n",
       "        vertical-align: middle;\n",
       "    }\n",
       "\n",
       "    .dataframe tbody tr th {\n",
       "        vertical-align: top;\n",
       "    }\n",
       "\n",
       "    .dataframe thead th {\n",
       "        text-align: right;\n",
       "    }\n",
       "</style>\n",
       "<table border=\"1\" class=\"dataframe\">\n",
       "  <thead>\n",
       "    <tr style=\"text-align: right;\">\n",
       "      <th></th>\n",
       "      <th>Age</th>\n",
       "      <th>RoomService</th>\n",
       "      <th>FoodCourt</th>\n",
       "      <th>ShoppingMall</th>\n",
       "      <th>Spa</th>\n",
       "      <th>VRDeck</th>\n",
       "    </tr>\n",
       "  </thead>\n",
       "  <tbody>\n",
       "    <tr>\n",
       "      <th>0</th>\n",
       "      <td>39.0</td>\n",
       "      <td>0.0</td>\n",
       "      <td>0.0</td>\n",
       "      <td>0.0</td>\n",
       "      <td>0.0</td>\n",
       "      <td>0.0</td>\n",
       "    </tr>\n",
       "    <tr>\n",
       "      <th>1</th>\n",
       "      <td>24.0</td>\n",
       "      <td>109.0</td>\n",
       "      <td>9.0</td>\n",
       "      <td>25.0</td>\n",
       "      <td>549.0</td>\n",
       "      <td>44.0</td>\n",
       "    </tr>\n",
       "    <tr>\n",
       "      <th>2</th>\n",
       "      <td>58.0</td>\n",
       "      <td>43.0</td>\n",
       "      <td>3576.0</td>\n",
       "      <td>0.0</td>\n",
       "      <td>6715.0</td>\n",
       "      <td>49.0</td>\n",
       "    </tr>\n",
       "    <tr>\n",
       "      <th>3</th>\n",
       "      <td>33.0</td>\n",
       "      <td>0.0</td>\n",
       "      <td>1283.0</td>\n",
       "      <td>371.0</td>\n",
       "      <td>3329.0</td>\n",
       "      <td>193.0</td>\n",
       "    </tr>\n",
       "    <tr>\n",
       "      <th>4</th>\n",
       "      <td>16.0</td>\n",
       "      <td>303.0</td>\n",
       "      <td>70.0</td>\n",
       "      <td>151.0</td>\n",
       "      <td>565.0</td>\n",
       "      <td>2.0</td>\n",
       "    </tr>\n",
       "  </tbody>\n",
       "</table>\n",
       "</div>"
      ],
      "text/plain": [
       "    Age  RoomService  FoodCourt  ShoppingMall     Spa  VRDeck\n",
       "0  39.0          0.0        0.0           0.0     0.0     0.0\n",
       "1  24.0        109.0        9.0          25.0   549.0    44.0\n",
       "2  58.0         43.0     3576.0           0.0  6715.0    49.0\n",
       "3  33.0          0.0     1283.0         371.0  3329.0   193.0\n",
       "4  16.0        303.0       70.0         151.0   565.0     2.0"
      ]
     },
     "metadata": {},
     "output_type": "display_data"
    },
    {
     "name": "stdout",
     "output_type": "stream",
     "text": [
      "\n",
      "\n",
      "Slice of dataframe with categorical columns\n"
     ]
    },
    {
     "data": {
      "text/html": [
       "<div>\n",
       "<style scoped>\n",
       "    .dataframe tbody tr th:only-of-type {\n",
       "        vertical-align: middle;\n",
       "    }\n",
       "\n",
       "    .dataframe tbody tr th {\n",
       "        vertical-align: top;\n",
       "    }\n",
       "\n",
       "    .dataframe thead th {\n",
       "        text-align: right;\n",
       "    }\n",
       "</style>\n",
       "<table border=\"1\" class=\"dataframe\">\n",
       "  <thead>\n",
       "    <tr style=\"text-align: right;\">\n",
       "      <th></th>\n",
       "      <th>PassengerId</th>\n",
       "      <th>HomePlanet</th>\n",
       "      <th>CryoSleep</th>\n",
       "      <th>Cabin</th>\n",
       "      <th>Destination</th>\n",
       "      <th>VIP</th>\n",
       "      <th>Name</th>\n",
       "      <th>Transported</th>\n",
       "    </tr>\n",
       "  </thead>\n",
       "  <tbody>\n",
       "    <tr>\n",
       "      <th>0</th>\n",
       "      <td>0001_01</td>\n",
       "      <td>Europa</td>\n",
       "      <td>False</td>\n",
       "      <td>B/0/P</td>\n",
       "      <td>TRAPPIST-1e</td>\n",
       "      <td>False</td>\n",
       "      <td>Maham Ofracculy</td>\n",
       "      <td>False</td>\n",
       "    </tr>\n",
       "    <tr>\n",
       "      <th>1</th>\n",
       "      <td>0002_01</td>\n",
       "      <td>Earth</td>\n",
       "      <td>False</td>\n",
       "      <td>F/0/S</td>\n",
       "      <td>TRAPPIST-1e</td>\n",
       "      <td>False</td>\n",
       "      <td>Juanna Vines</td>\n",
       "      <td>True</td>\n",
       "    </tr>\n",
       "    <tr>\n",
       "      <th>2</th>\n",
       "      <td>0003_01</td>\n",
       "      <td>Europa</td>\n",
       "      <td>False</td>\n",
       "      <td>A/0/S</td>\n",
       "      <td>TRAPPIST-1e</td>\n",
       "      <td>True</td>\n",
       "      <td>Altark Susent</td>\n",
       "      <td>False</td>\n",
       "    </tr>\n",
       "    <tr>\n",
       "      <th>3</th>\n",
       "      <td>0003_02</td>\n",
       "      <td>Europa</td>\n",
       "      <td>False</td>\n",
       "      <td>A/0/S</td>\n",
       "      <td>TRAPPIST-1e</td>\n",
       "      <td>False</td>\n",
       "      <td>Solam Susent</td>\n",
       "      <td>False</td>\n",
       "    </tr>\n",
       "    <tr>\n",
       "      <th>4</th>\n",
       "      <td>0004_01</td>\n",
       "      <td>Earth</td>\n",
       "      <td>False</td>\n",
       "      <td>F/1/S</td>\n",
       "      <td>TRAPPIST-1e</td>\n",
       "      <td>False</td>\n",
       "      <td>Willy Santantines</td>\n",
       "      <td>True</td>\n",
       "    </tr>\n",
       "  </tbody>\n",
       "</table>\n",
       "</div>"
      ],
      "text/plain": [
       "  PassengerId HomePlanet CryoSleep  Cabin  Destination    VIP   \n",
       "0     0001_01     Europa     False  B/0/P  TRAPPIST-1e  False  \\\n",
       "1     0002_01      Earth     False  F/0/S  TRAPPIST-1e  False   \n",
       "2     0003_01     Europa     False  A/0/S  TRAPPIST-1e   True   \n",
       "3     0003_02     Europa     False  A/0/S  TRAPPIST-1e  False   \n",
       "4     0004_01      Earth     False  F/1/S  TRAPPIST-1e  False   \n",
       "\n",
       "                Name  Transported  \n",
       "0    Maham Ofracculy        False  \n",
       "1       Juanna Vines         True  \n",
       "2      Altark Susent        False  \n",
       "3       Solam Susent        False  \n",
       "4  Willy Santantines         True  "
      ]
     },
     "metadata": {},
     "output_type": "display_data"
    },
    {
     "name": "stdout",
     "output_type": "stream",
     "text": [
      "\n",
      "\n"
     ]
    }
   ],
   "source": [
    "num_df = train.select_dtypes('number')\n",
    "print('Slice of dataframe with numeric columns')\n",
    "display(num_df.head(5))\n",
    "print('\\n')\n",
    "cat_df = train.select_dtypes(include=['object','boolean'])\n",
    "print('Slice of dataframe with categorical columns')\n",
    "display(cat_df.head(5))\n",
    "print('\\n')"
   ]
  },
  {
   "cell_type": "code",
   "execution_count": 7,
   "id": "586aa5a8",
   "metadata": {
    "ExecuteTime": {
     "end_time": "2023-07-02T13:03:06.269196Z",
     "start_time": "2023-07-02T13:03:05.454524Z"
    },
    "scrolled": false
   },
   "outputs": [
    {
     "data": {
      "image/png": "[encoded data removed]",
      "text/plain": [
       "<Figure size 640x480 with 1 Axes>"
      ]
     },
     "metadata": {},
     "output_type": "display_data"
    },
    {
     "data": {
      "image/png": "[encoded data removed]",
      "text/plain": [
       "<Figure size 640x480 with 1 Axes>"
      ]
     },
     "metadata": {},
     "output_type": "display_data"
    },
    {
     "data": {
      "image/png": "[encoded data removed]",
      "text/plain": [
       "<Figure size 640x480 with 1 Axes>"
      ]
     },
     "metadata": {},
     "output_type": "display_data"
    },
    {
     "data": {
      "image/png": "[encoded data removed]",
      "text/plain": [
       "<Figure size 640x480 with 1 Axes>"
      ]
     },
     "metadata": {},
     "output_type": "display_data"
    },
    {
     "data": {
      "image/png": "[encoded data removed]",
      "text/plain": [
       "<Figure size 640x480 with 1 Axes>"
      ]
     },
     "metadata": {},
     "output_type": "display_data"
    },
    {
     "data": {
      "image/png": "[encoded data removed]",
      "text/plain": [
       "<Figure size 640x480 with 1 Axes>"
      ]
     },
     "metadata": {},
     "output_type": "display_data"
    },
    {
     "data": {
      "text/plain": [
       "Text(0.5, 1.0, 'Correlation Heatmap')"
      ]
     },
     "execution_count": 7,
     "metadata": {},
     "output_type": "execute_result"
    },
    {
     "data": {
      "image/png": "[encoded data removed]",
      "text/plain": [
       "<Figure size 1600x600 with 2 Axes>"
      ]
     },
     "metadata": {},
     "output_type": "display_data"
    }
   ],
   "source": [
    "# Define the custom color\n",
    "custom_color = mcolors.LinearSegmentedColormap.from_list('custom_color', colors)\n",
    "\n",
    "# Numeric columns distributions\n",
    "for i in num_df:\n",
    "    plt.hist(num_df[i], bins=10, range=[num_df[i].min(), num_df[i].max()], color=colors[0])\n",
    "    plt.title(i)\n",
    "    plt.show()\n",
    "\n",
    "plt.figure(figsize=(16, 6))\n",
    "heatmap = sns.heatmap(num_df.corr(), vmin=-1, vmax=1, annot=True, cmap=custom_color)\n",
    "heatmap.set_title('Correlation Heatmap', fontdict={'fontsize': 12}, pad=12)"
   ]
  },
  {
   "cell_type": "code",
   "execution_count": 8,
   "id": "0bed3a53",
   "metadata": {
    "ExecuteTime": {
     "end_time": "2023-07-02T13:03:06.350849Z",
     "start_time": "2023-07-02T13:03:06.270201Z"
    }
   },
   "outputs": [
    {
     "data": {
      "image/png": "[encoded data removed]",
      "text/plain": [
       "<Figure size 640x480 with 1 Axes>"
      ]
     },
     "metadata": {},
     "output_type": "display_data"
    }
   ],
   "source": [
    "# Box and Whisker Plot for 'Age' column\n",
    "age_data = train['Age'].dropna()\n",
    "\n",
    "plt.boxplot(age_data)\n",
    "plt.title('Box and Whisker Plot: Age')\n",
    "plt.xlabel('Age')\n",
    "plt.ylabel('Values')\n",
    "plt.show()"
   ]
  },
  {
   "cell_type": "code",
   "execution_count": 9,
   "id": "003e6823",
   "metadata": {
    "ExecuteTime": {
     "end_time": "2023-07-02T13:03:06.434614Z",
     "start_time": "2023-07-02T13:03:06.351851Z"
    }
   },
   "outputs": [
    {
     "data": {
      "image/png": "[encoded data removed]",
      "text/plain": [
       "<Figure size 640x480 with 1 Axes>"
      ]
     },
     "metadata": {},
     "output_type": "display_data"
    }
   ],
   "source": [
    "#  Box and Whisker Plot for 'RoomService' column\n",
    "roomservice_data = train['RoomService'].dropna()\n",
    "plt.boxplot(roomservice_data)\n",
    "plt.title('Box and Whisker Plot: RoomService')\n",
    "plt.xlabel('RoomService')\n",
    "plt.ylabel('Values')\n",
    "plt.show()"
   ]
  },
  {
   "cell_type": "code",
   "execution_count": 10,
   "id": "a5df0be0",
   "metadata": {
    "ExecuteTime": {
     "end_time": "2023-07-02T13:03:06.514493Z",
     "start_time": "2023-07-02T13:03:06.436620Z"
    }
   },
   "outputs": [
    {
     "data": {
      "image/png": "[encoded data removed]",
      "text/plain": [
       "<Figure size 640x480 with 1 Axes>"
      ]
     },
     "metadata": {},
     "output_type": "display_data"
    }
   ],
   "source": [
    "# Box and Whisker Plot for 'FoodCourt' column\n",
    "foodcourt_data = train['FoodCourt'].dropna()\n",
    "plt.boxplot(foodcourt_data)\n",
    "plt.title('Box and Whisker Plot: FoodCourt')\n",
    "plt.xlabel('FoodCourt')\n",
    "plt.ylabel('Values')\n",
    "plt.show()"
   ]
  },
  {
   "cell_type": "code",
   "execution_count": 11,
   "id": "8542a3ba",
   "metadata": {
    "ExecuteTime": {
     "end_time": "2023-07-02T13:03:06.589234Z",
     "start_time": "2023-07-02T13:03:06.515507Z"
    }
   },
   "outputs": [
    {
     "data": {
      "image/png": "[encoded data removed]",
      "text/plain": [
       "<Figure size 640x480 with 1 Axes>"
      ]
     },
     "metadata": {},
     "output_type": "display_data"
    }
   ],
   "source": [
    "# Box and Whisker Plot for 'ShoppingMall' column\n",
    "shoppingmall_data = train['ShoppingMall'].dropna()\n",
    "plt.boxplot(shoppingmall_data)\n",
    "plt.title('Box and Whisker Plot: ShoppingMall')\n",
    "plt.xlabel('ShoppingMall')\n",
    "plt.ylabel('Values')\n",
    "plt.show()"
   ]
  },
  {
   "cell_type": "code",
   "execution_count": 12,
   "id": "813810ab",
   "metadata": {
    "ExecuteTime": {
     "end_time": "2023-07-02T13:03:06.664181Z",
     "start_time": "2023-07-02T13:03:06.590242Z"
    }
   },
   "outputs": [
    {
     "data": {
      "image/png": "[encoded data removed]",
      "text/plain": [
       "<Figure size 640x480 with 1 Axes>"
      ]
     },
     "metadata": {},
     "output_type": "display_data"
    }
   ],
   "source": [
    "# Box and Whisker Plot for 'Spa' column\n",
    "spa_data = train['Spa'].dropna()\n",
    "plt.boxplot(spa_data)\n",
    "plt.title('Box and Whisker Plot: Spa')\n",
    "plt.xlabel('Spa')\n",
    "plt.ylabel('Values')\n",
    "plt.show()"
   ]
  },
  {
   "cell_type": "code",
   "execution_count": 13,
   "id": "f3a31825",
   "metadata": {
    "ExecuteTime": {
     "end_time": "2023-07-02T13:03:06.743498Z",
     "start_time": "2023-07-02T13:03:06.665188Z"
    }
   },
   "outputs": [
    {
     "data": {
      "image/png": "[encoded data removed]",
      "text/plain": [
       "<Figure size 640x480 with 1 Axes>"
      ]
     },
     "metadata": {},
     "output_type": "display_data"
    }
   ],
   "source": [
    "# Box and Whisker Plot for 'VRDeck' column\n",
    "vrdeck_data = train['VRDeck'].dropna()\n",
    "plt.boxplot(vrdeck_data)\n",
    "plt.title('Box and Whisker Plot: VRDeck')\n",
    "plt.xlabel('VRDeck')\n",
    "plt.ylabel('Values')\n",
    "plt.show()"
   ]
  },
  {
   "cell_type": "markdown",
   "id": "2440a10d",
   "metadata": {},
   "source": [
    "<div class=\"alert alert-success\">\n",
    "<b>Chart Inference:</b>\n",
    "\n",
    "1. ```Age``` follows normal distribution. We see majority adults between 20 to 30, suggesting this group which is younger and has a higher procilivity to taking risks, are comfortable travelling in space. We also see a spike in ages of children\n",
    "2. Older people are more prone to ordering ```room service```\n",
    "3. Passengers who spend money on ```VRDeck``` at less likely to spend money on ```room service``` or ```shopping mall```\n",
    "4. Passengers who spend money on ```food court``` are less likely to order ```room service```\n",
    "</div>"
   ]
  },
  {
   "cell_type": "code",
   "execution_count": 14,
   "id": "7757c34b",
   "metadata": {
    "ExecuteTime": {
     "end_time": "2023-07-02T13:03:06.752527Z",
     "start_time": "2023-07-02T13:03:06.744504Z"
    }
   },
   "outputs": [
    {
     "data": {
      "text/html": [
       "<div>\n",
       "<style scoped>\n",
       "    .dataframe tbody tr th:only-of-type {\n",
       "        vertical-align: middle;\n",
       "    }\n",
       "\n",
       "    .dataframe tbody tr th {\n",
       "        vertical-align: top;\n",
       "    }\n",
       "\n",
       "    .dataframe thead th {\n",
       "        text-align: right;\n",
       "    }\n",
       "</style>\n",
       "<table border=\"1\" class=\"dataframe\">\n",
       "  <thead>\n",
       "    <tr style=\"text-align: right;\">\n",
       "      <th></th>\n",
       "      <th>Age</th>\n",
       "      <th>FoodCourt</th>\n",
       "      <th>RoomService</th>\n",
       "      <th>ShoppingMall</th>\n",
       "      <th>Spa</th>\n",
       "      <th>VRDeck</th>\n",
       "    </tr>\n",
       "    <tr>\n",
       "      <th>Transported</th>\n",
       "      <th></th>\n",
       "      <th></th>\n",
       "      <th></th>\n",
       "      <th></th>\n",
       "      <th></th>\n",
       "      <th></th>\n",
       "    </tr>\n",
       "  </thead>\n",
       "  <tbody>\n",
       "    <tr>\n",
       "      <th>False</th>\n",
       "      <td>29.922858</td>\n",
       "      <td>382.615930</td>\n",
       "      <td>389.266066</td>\n",
       "      <td>167.566217</td>\n",
       "      <td>564.382666</td>\n",
       "      <td>543.629822</td>\n",
       "    </tr>\n",
       "    <tr>\n",
       "      <th>True</th>\n",
       "      <td>27.748834</td>\n",
       "      <td>532.691984</td>\n",
       "      <td>63.098021</td>\n",
       "      <td>179.829972</td>\n",
       "      <td>61.675531</td>\n",
       "      <td>69.148131</td>\n",
       "    </tr>\n",
       "  </tbody>\n",
       "</table>\n",
       "</div>"
      ],
      "text/plain": [
       "                   Age   FoodCourt  RoomService  ShoppingMall         Spa   \n",
       "Transported                                                                 \n",
       "False        29.922858  382.615930   389.266066    167.566217  564.382666  \\\n",
       "True         27.748834  532.691984    63.098021    179.829972   61.675531   \n",
       "\n",
       "                 VRDeck  \n",
       "Transported              \n",
       "False        543.629822  \n",
       "True          69.148131  "
      ]
     },
     "metadata": {},
     "output_type": "display_data"
    }
   ],
   "source": [
    "# Comparing transported rate with numerical variables\n",
    "values = list(num_df.columns)\n",
    "pivot_table = pd.pivot_table(train, index='Transported', values=values, aggfunc='mean')\n",
    "display(pivot_table)"
   ]
  },
  {
   "cell_type": "markdown",
   "id": "76cece98",
   "metadata": {},
   "source": [
    "<div class=\"alert alert-success\">\n",
    "<b>While no causal effect is implied, the general trend says on average...</b>\n",
    "\n",
    "Passengers who got transported on average spent less on spa, VRDeck and room service, which could indicate that passengers who were busy with  ```indoor activities``` were more likely to be subjected to interdimensional transport v/s others."
   ]
  },
  {
   "cell_type": "code",
   "execution_count": 15,
   "id": "7dae3a84",
   "metadata": {
    "ExecuteTime": {
     "end_time": "2023-07-02T13:03:39.237451Z",
     "start_time": "2023-07-02T13:03:06.752527Z"
    },
    "scrolled": false
   },
   "outputs": [
    {
     "data": {
      "image/png": "[encoded data removed]",
      "text/plain": [
       "<Figure size 640x480 with 1 Axes>"
      ]
     },
     "metadata": {},
     "output_type": "display_data"
    },
    {
     "data": {
      "image/png": "[encoded data removed]",
      "text/plain": [
       "<Figure size 640x480 with 1 Axes>"
      ]
     },
     "metadata": {},
     "output_type": "display_data"
    },
    {
     "data": {
      "image/png": "[encoded data removed]",
      "text/plain": [
       "<Figure size 640x480 with 1 Axes>"
      ]
     },
     "metadata": {},
     "output_type": "display_data"
    },
    {
     "data": {
      "image/png": "[encoded data removed]",
      "text/plain": [
       "<Figure size 640x480 with 1 Axes>"
      ]
     },
     "metadata": {},
     "output_type": "display_data"
    },
    {
     "data": {
      "image/png": "[encoded data removed]",
      "text/plain": [
       "<Figure size 640x480 with 1 Axes>"
      ]
     },
     "metadata": {},
     "output_type": "display_data"
    },
    {
     "data": {
      "image/png": "[encoded data removed]",
      "text/plain": [
       "<Figure size 640x480 with 1 Axes>"
      ]
     },
     "metadata": {},
     "output_type": "display_data"
    }
   ],
   "source": [
    "colors = ['#093178', '#6984B3', '#B1B1B1']\n",
    "for column in cat_df.columns:\n",
    "    if column != 'PassengerId' and column != 'Name':\n",
    "        sns.barplot(x=cat_df[column].value_counts().index, y=cat_df[column].value_counts(), palette=colors)\n",
    "        plt.title(column)\n",
    "        plt.show()"
   ]
  },
  {
   "cell_type": "markdown",
   "id": "c9850fed",
   "metadata": {},
   "source": [
    "<div class=\"alert alert-success\">\n",
    "<b>Inference:</b>\n",
    "\n",
    "1. Most passengers travelled from ```earth```\n",
    "2. Majority were going to ```TRAPPIST-1e```\n",
    "3. Comparatively few were ```VIP```\n",
    "4. Slightly more number of passengers preferred to not be put in ```CryoSleep```\n",
    "</div>"
   ]
  },
  {
   "cell_type": "code",
   "execution_count": 16,
   "id": "28c85c98",
   "metadata": {
    "ExecuteTime": {
     "end_time": "2023-07-02T13:03:39.302406Z",
     "start_time": "2023-07-02T13:03:39.238459Z"
    }
   },
   "outputs": [
    {
     "data": {
      "text/html": [
       "<div>\n",
       "<style scoped>\n",
       "    .dataframe tbody tr th:only-of-type {\n",
       "        vertical-align: middle;\n",
       "    }\n",
       "\n",
       "    .dataframe tbody tr th {\n",
       "        vertical-align: top;\n",
       "    }\n",
       "\n",
       "    .dataframe thead th {\n",
       "        text-align: right;\n",
       "    }\n",
       "</style>\n",
       "<table border=\"1\" class=\"dataframe\">\n",
       "  <thead>\n",
       "    <tr style=\"text-align: right;\">\n",
       "      <th>Transported</th>\n",
       "      <th>False</th>\n",
       "      <th>True</th>\n",
       "      <th>All</th>\n",
       "    </tr>\n",
       "    <tr>\n",
       "      <th>HomePlanet</th>\n",
       "      <th></th>\n",
       "      <th></th>\n",
       "      <th></th>\n",
       "    </tr>\n",
       "  </thead>\n",
       "  <tbody>\n",
       "    <tr>\n",
       "      <th>Earth</th>\n",
       "      <td>2594</td>\n",
       "      <td>1913</td>\n",
       "      <td>4507</td>\n",
       "    </tr>\n",
       "    <tr>\n",
       "      <th>Europa</th>\n",
       "      <td>706</td>\n",
       "      <td>1364</td>\n",
       "      <td>2070</td>\n",
       "    </tr>\n",
       "    <tr>\n",
       "      <th>Mars</th>\n",
       "      <td>820</td>\n",
       "      <td>902</td>\n",
       "      <td>1722</td>\n",
       "    </tr>\n",
       "    <tr>\n",
       "      <th>All</th>\n",
       "      <td>4120</td>\n",
       "      <td>4179</td>\n",
       "      <td>8299</td>\n",
       "    </tr>\n",
       "  </tbody>\n",
       "</table>\n",
       "</div>"
      ],
      "text/plain": [
       "Transported  False  True   All\n",
       "HomePlanet                    \n",
       "Earth         2594  1913  4507\n",
       "Europa         706  1364  2070\n",
       "Mars           820   902  1722\n",
       "All           4120  4179  8299"
      ]
     },
     "metadata": {},
     "output_type": "display_data"
    },
    {
     "name": "stdout",
     "output_type": "stream",
     "text": [
      "\n",
      "\n"
     ]
    },
    {
     "data": {
      "text/html": [
       "<div>\n",
       "<style scoped>\n",
       "    .dataframe tbody tr th:only-of-type {\n",
       "        vertical-align: middle;\n",
       "    }\n",
       "\n",
       "    .dataframe tbody tr th {\n",
       "        vertical-align: top;\n",
       "    }\n",
       "\n",
       "    .dataframe thead th {\n",
       "        text-align: right;\n",
       "    }\n",
       "</style>\n",
       "<table border=\"1\" class=\"dataframe\">\n",
       "  <thead>\n",
       "    <tr style=\"text-align: right;\">\n",
       "      <th>Transported</th>\n",
       "      <th>False</th>\n",
       "      <th>True</th>\n",
       "      <th>All</th>\n",
       "    </tr>\n",
       "    <tr>\n",
       "      <th>CryoSleep</th>\n",
       "      <th></th>\n",
       "      <th></th>\n",
       "      <th></th>\n",
       "    </tr>\n",
       "  </thead>\n",
       "  <tbody>\n",
       "    <tr>\n",
       "      <th>False</th>\n",
       "      <td>3571</td>\n",
       "      <td>1760</td>\n",
       "      <td>5331</td>\n",
       "    </tr>\n",
       "    <tr>\n",
       "      <th>True</th>\n",
       "      <td>537</td>\n",
       "      <td>2416</td>\n",
       "      <td>2953</td>\n",
       "    </tr>\n",
       "    <tr>\n",
       "      <th>All</th>\n",
       "      <td>4108</td>\n",
       "      <td>4176</td>\n",
       "      <td>8284</td>\n",
       "    </tr>\n",
       "  </tbody>\n",
       "</table>\n",
       "</div>"
      ],
      "text/plain": [
       "Transported  False  True   All\n",
       "CryoSleep                     \n",
       "False         3571  1760  5331\n",
       "True           537  2416  2953\n",
       "All           4108  4176  8284"
      ]
     },
     "metadata": {},
     "output_type": "display_data"
    },
    {
     "name": "stdout",
     "output_type": "stream",
     "text": [
      "\n",
      "\n"
     ]
    },
    {
     "data": {
      "text/html": [
       "<div>\n",
       "<style scoped>\n",
       "    .dataframe tbody tr th:only-of-type {\n",
       "        vertical-align: middle;\n",
       "    }\n",
       "\n",
       "    .dataframe tbody tr th {\n",
       "        vertical-align: top;\n",
       "    }\n",
       "\n",
       "    .dataframe thead th {\n",
       "        text-align: right;\n",
       "    }\n",
       "</style>\n",
       "<table border=\"1\" class=\"dataframe\">\n",
       "  <thead>\n",
       "    <tr style=\"text-align: right;\">\n",
       "      <th>Transported</th>\n",
       "      <th>False</th>\n",
       "      <th>True</th>\n",
       "      <th>All</th>\n",
       "    </tr>\n",
       "    <tr>\n",
       "      <th>Destination</th>\n",
       "      <th></th>\n",
       "      <th></th>\n",
       "      <th></th>\n",
       "    </tr>\n",
       "  </thead>\n",
       "  <tbody>\n",
       "    <tr>\n",
       "      <th>55 Cancri e</th>\n",
       "      <td>684</td>\n",
       "      <td>1066</td>\n",
       "      <td>1750</td>\n",
       "    </tr>\n",
       "    <tr>\n",
       "      <th>PSO J318.5-22</th>\n",
       "      <td>382</td>\n",
       "      <td>396</td>\n",
       "      <td>778</td>\n",
       "    </tr>\n",
       "    <tr>\n",
       "      <th>TRAPPIST-1e</th>\n",
       "      <td>3063</td>\n",
       "      <td>2725</td>\n",
       "      <td>5788</td>\n",
       "    </tr>\n",
       "    <tr>\n",
       "      <th>All</th>\n",
       "      <td>4129</td>\n",
       "      <td>4187</td>\n",
       "      <td>8316</td>\n",
       "    </tr>\n",
       "  </tbody>\n",
       "</table>\n",
       "</div>"
      ],
      "text/plain": [
       "Transported    False  True   All\n",
       "Destination                     \n",
       "55 Cancri e      684  1066  1750\n",
       "PSO J318.5-22    382   396   778\n",
       "TRAPPIST-1e     3063  2725  5788\n",
       "All             4129  4187  8316"
      ]
     },
     "metadata": {},
     "output_type": "display_data"
    },
    {
     "name": "stdout",
     "output_type": "stream",
     "text": [
      "\n",
      "\n"
     ]
    },
    {
     "data": {
      "text/html": [
       "<div>\n",
       "<style scoped>\n",
       "    .dataframe tbody tr th:only-of-type {\n",
       "        vertical-align: middle;\n",
       "    }\n",
       "\n",
       "    .dataframe tbody tr th {\n",
       "        vertical-align: top;\n",
       "    }\n",
       "\n",
       "    .dataframe thead th {\n",
       "        text-align: right;\n",
       "    }\n",
       "</style>\n",
       "<table border=\"1\" class=\"dataframe\">\n",
       "  <thead>\n",
       "    <tr style=\"text-align: right;\">\n",
       "      <th>Transported</th>\n",
       "      <th>False</th>\n",
       "      <th>True</th>\n",
       "      <th>All</th>\n",
       "    </tr>\n",
       "    <tr>\n",
       "      <th>VIP</th>\n",
       "      <th></th>\n",
       "      <th></th>\n",
       "      <th></th>\n",
       "    </tr>\n",
       "  </thead>\n",
       "  <tbody>\n",
       "    <tr>\n",
       "      <th>False</th>\n",
       "      <td>4003</td>\n",
       "      <td>4101</td>\n",
       "      <td>8104</td>\n",
       "    </tr>\n",
       "    <tr>\n",
       "      <th>True</th>\n",
       "      <td>118</td>\n",
       "      <td>75</td>\n",
       "      <td>193</td>\n",
       "    </tr>\n",
       "    <tr>\n",
       "      <th>All</th>\n",
       "      <td>4121</td>\n",
       "      <td>4176</td>\n",
       "      <td>8297</td>\n",
       "    </tr>\n",
       "  </tbody>\n",
       "</table>\n",
       "</div>"
      ],
      "text/plain": [
       "Transported  False  True   All\n",
       "VIP                           \n",
       "False         4003  4101  8104\n",
       "True           118    75   193\n",
       "All           4121  4176  8297"
      ]
     },
     "metadata": {},
     "output_type": "display_data"
    },
    {
     "name": "stdout",
     "output_type": "stream",
     "text": [
      "\n",
      "\n"
     ]
    }
   ],
   "source": [
    "# Similar to previous columns, we would like to look at the categorical column relation with 'Transported'\n",
    "for column in cat_df.columns:\n",
    "    if column != 'Transported' and column != 'Name' and column != 'Cabin' and column!= 'PassengerId':\n",
    "        pivot_table = pd.pivot_table(train, index=column, values = 'Cabin',columns='Transported', aggfunc='count',margins=True)\n",
    "        display(pivot_table)\n",
    "        print('\\n')"
   ]
  },
  {
   "cell_type": "markdown",
   "id": "cc5e393e",
   "metadata": {},
   "source": [
    "<div class=\"alert alert-success\">\n",
    "<b>Inference:</b>\n",
    "\n",
    "1. Of the passengers travelling from ```Europa```, almost double the passengers were transported, posing a likely curiosity in the mechanics of Europa's geological system, making them prone to interdimensional transport\n",
    "2. Of the few ```VIPs``` onboard, less than 3/4ths of them were prone to interdimensional travel. The number though no significant is reasonable considering there could be extra security measures in place\n",
    "3. And those who opted for ```CryoSleep``` were 4 times more likely to be Transported v/s those who weren't\n",
    "</div>"
   ]
  },
  {
   "cell_type": "code",
   "execution_count": 17,
   "id": "da057cca",
   "metadata": {
    "ExecuteTime": {
     "end_time": "2023-07-02T13:03:39.351516Z",
     "start_time": "2023-07-02T13:03:39.302406Z"
    }
   },
   "outputs": [
    {
     "data": {
      "image/png": "[encoded data removed]",
      "text/plain": [
       "<Figure size 640x480 with 1 Axes>"
      ]
     },
     "metadata": {},
     "output_type": "display_data"
    }
   ],
   "source": [
    "# Pie chart of distribution of the target label\n",
    "transported_counts = train['Transported'].value_counts()\n",
    "\n",
    "plt.pie(transported_counts, labels=transported_counts.index, autopct='%1.1f%%', colors=colors)\n",
    "plt.title('Transported Status')\n",
    "plt.axis('equal')  # Equal aspect ratio ensures a circular pie chart\n",
    "plt.show()"
   ]
  },
  {
   "cell_type": "markdown",
   "id": "6d719d5d",
   "metadata": {},
   "source": [
    "<div class=\"alert alert-success\">\n",
    "<b>Inference:</b>\n",
    "\n",
    "This is a case of balanced data where the predictors are of equal distribution among 0 and 1. \n",
    "</div>"
   ]
  },
  {
   "cell_type": "code",
   "execution_count": 18,
   "id": "fac3ce41",
   "metadata": {
    "ExecuteTime": {
     "end_time": "2023-07-02T13:03:39.357509Z",
     "start_time": "2023-07-02T13:03:39.352021Z"
    }
   },
   "outputs": [
    {
     "name": "stdout",
     "output_type": "stream",
     "text": [
      "\u001b[1mNumber of empty cells by columns in train set\u001b[0m\n"
     ]
    },
    {
     "data": {
      "text/plain": [
       "CryoSleep       217\n",
       "ShoppingMall    208\n",
       "VIP             203\n",
       "HomePlanet      201\n",
       "Name            200\n",
       "Cabin           199\n",
       "VRDeck          188\n",
       "FoodCourt       183\n",
       "Spa             183\n",
       "Destination     182\n",
       "RoomService     181\n",
       "Age             179\n",
       "PassengerId       0\n",
       "Transported       0\n",
       "dtype: int64"
      ]
     },
     "metadata": {},
     "output_type": "display_data"
    }
   ],
   "source": [
    "print(\"\\033[1mNumber of empty cells by columns in train set\\033[0m\")\n",
    "display(train.isna().sum().sort_values(ascending=False))"
   ]
  },
  {
   "cell_type": "code",
   "execution_count": 19,
   "id": "7f13210f",
   "metadata": {
    "ExecuteTime": {
     "end_time": "2023-07-02T13:03:39.363083Z",
     "start_time": "2023-07-02T13:03:39.358516Z"
    }
   },
   "outputs": [
    {
     "name": "stdout",
     "output_type": "stream",
     "text": [
      "\u001b[1mNumber of empty cells by columns in test set\u001b[0m\n"
     ]
    },
    {
     "data": {
      "text/plain": [
       "FoodCourt       106\n",
       "Spa             101\n",
       "Cabin           100\n",
       "ShoppingMall     98\n",
       "Name             94\n",
       "CryoSleep        93\n",
       "VIP              93\n",
       "Destination      92\n",
       "Age              91\n",
       "HomePlanet       87\n",
       "RoomService      82\n",
       "VRDeck           80\n",
       "PassengerId       0\n",
       "dtype: int64"
      ]
     },
     "metadata": {},
     "output_type": "display_data"
    }
   ],
   "source": [
    "print(\"\\033[1mNumber of empty cells by columns in test set\\033[0m\")\n",
    "display(test.isna().sum().sort_values(ascending=False))"
   ]
  },
  {
   "cell_type": "markdown",
   "id": "043587b3",
   "metadata": {},
   "source": [
    "<div class=\"alert alert-success\">\n",
    "<b>Inference:</b>\n",
    "\n",
    "All columns have missing values, except identifier,  ```PassengerId```, and target label ```Transported```\n",
    "</div>"
   ]
  },
  {
   "cell_type": "markdown",
   "id": "a46bb046",
   "metadata": {},
   "source": [
    "<div class=\"alert alert-info\" style=\"background-color: #FFB380;color: white;border-radius: 10px;\">\n",
    "    <h1>Data Cleaning</h1>\n",
    "</div>"
   ]
  },
  {
   "cell_type": "code",
   "execution_count": 20,
   "id": "9c5f4537",
   "metadata": {
    "ExecuteTime": {
     "end_time": "2023-07-02T13:03:39.367368Z",
     "start_time": "2023-07-02T13:03:39.364088Z"
    }
   },
   "outputs": [
    {
     "name": "stdout",
     "output_type": "stream",
     "text": [
      "0       0\n",
      "1       1\n",
      "2       0\n",
      "3       0\n",
      "4       1\n",
      "       ..\n",
      "8688    0\n",
      "8689    0\n",
      "8690    1\n",
      "8691    0\n",
      "8692    1\n",
      "Name: Transported, Length: 8693, dtype: int32\n"
     ]
    }
   ],
   "source": [
    "# We have to change the values in \"Transported\" from True and False to 0,1. \n",
    "# Some models will require binary integers instead of boolean values.\n",
    "train['Transported'] = train['Transported'].astype(int)\n",
    "print(train[\"Transported\"])"
   ]
  },
  {
   "cell_type": "markdown",
   "id": "c037146e",
   "metadata": {},
   "source": [
    "<div class=\"alert alert-info\" style=\"background-color: #FFB380;color: white;border-radius: 10px;\">\n",
    "    <h1>Feature Engineering possibilities</h1>\n",
    "    <h2><i>Column - Cabin</i></h2>\n",
    "</div>"
   ]
  },
  {
   "cell_type": "code",
   "execution_count": 21,
   "id": "9c992e08",
   "metadata": {
    "ExecuteTime": {
     "end_time": "2023-07-02T13:03:39.376081Z",
     "start_time": "2023-07-02T13:03:39.368372Z"
    }
   },
   "outputs": [
    {
     "name": "stdout",
     "output_type": "stream",
     "text": [
      "Number of empty cells in the column cabin\n",
      "199\n",
      "\n",
      "\n",
      "Unique values in the column cabin\n"
     ]
    },
    {
     "data": {
      "text/plain": [
       "Cabin\n",
       "G/734/S     8\n",
       "G/109/P     7\n",
       "B/201/P     7\n",
       "G/1368/P    7\n",
       "G/981/S     7\n",
       "           ..\n",
       "G/556/P     1\n",
       "E/231/S     1\n",
       "G/545/S     1\n",
       "G/543/S     1\n",
       "F/947/P     1\n",
       "Name: count, Length: 6560, dtype: int64"
      ]
     },
     "metadata": {},
     "output_type": "display_data"
    },
    {
     "name": "stdout",
     "output_type": "stream",
     "text": [
      "\n",
      "\n",
      "Number of unique values in the column cabin\n"
     ]
    },
    {
     "data": {
      "text/plain": [
       "6560"
      ]
     },
     "metadata": {},
     "output_type": "display_data"
    }
   ],
   "source": [
    "print('Number of empty cells in the column cabin')\n",
    "print(train.Cabin.isna().sum())\n",
    "print('\\n')\n",
    "print('Unique values in the column cabin')\n",
    "display(train.Cabin.value_counts())\n",
    "print('\\n')\n",
    "print('Number of unique values in the column cabin')\n",
    "display(train.Cabin.nunique())"
   ]
  },
  {
   "cell_type": "markdown",
   "id": "d9775300",
   "metadata": {},
   "source": [
    "<div class=\"alert alert-success\">\n",
    "<b>Steps:</b>\n",
    "\n",
    "1. The histogram for ```cabin```, appears to be cluttered, further investigations suggests the breakup of cabin into ```Deck Level```, ```Cabin Number``` and ```Area``` (Starboard or Port)\n",
    "2.The assumption lies that number booked, deck and side suggest patterns in the feature cabin, hence worth investigating ```trend``` with respect to Transported\n",
    "</div>"
   ]
  },
  {
   "cell_type": "code",
   "execution_count": 22,
   "id": "84bccbaa",
   "metadata": {
    "ExecuteTime": {
     "end_time": "2023-07-02T13:03:39.423782Z",
     "start_time": "2023-07-02T13:03:39.377088Z"
    }
   },
   "outputs": [],
   "source": [
    "# Lets divide the cabin into Deck Level, Cabin Number and Area (Starboard or Port)\n",
    "def extract_cabin_info(df):\n",
    "    df['Deck Level'] = df['Cabin'].str.extract(r'([A-Za-z]+)')\n",
    "    df['Cabin Number'] = df['Cabin'].str.extract(r'(\\d+)')\n",
    "    df['Starboard/Port'] = df['Cabin'].str.extract(r'([A-Za-z]$)')\n",
    "    \n",
    "    df.drop('Cabin', axis=1, inplace=True)\n",
    "\n",
    "extract_cabin_info(train)\n",
    "extract_cabin_info(test)\n",
    "\n",
    "train['Cabin Number'] = pd.to_numeric(train['Cabin Number'], errors='coerce')\n",
    "test['Cabin Number'] = pd.to_numeric(test['Cabin Number'], errors='coerce')"
   ]
  },
  {
   "cell_type": "markdown",
   "id": "e4459309",
   "metadata": {},
   "source": [
    "<div class=\"alert alert-info\" style=\"background-color: #FFB380;color: white;border-radius: 10px;\">\n",
    "    <h1>Feature Engineering possibilities</h1>\n",
    "    <h2><i>Column - PassengerId</i></h2>\n",
    "</div>"
   ]
  },
  {
   "cell_type": "code",
   "execution_count": 23,
   "id": "389dc75a",
   "metadata": {
    "ExecuteTime": {
     "end_time": "2023-07-02T13:03:39.441349Z",
     "start_time": "2023-07-02T13:03:39.424788Z"
    }
   },
   "outputs": [],
   "source": [
    "# Lets extract the passenger number and the group of each passenger\n",
    "def extract_passenger_id_info(df):\n",
    "    df['Passenger_Num'] = df['PassengerId'].str[:4]\n",
    "    df['Passenger_Group'] = df['PassengerId'].str.split('_').str[1]\n",
    "    df.drop(\"PassengerId\", axis=1, inplace=True)\n",
    "\n",
    "extract_passenger_id_info(train)\n",
    "extract_passenger_id_info(test)"
   ]
  },
  {
   "cell_type": "markdown",
   "id": "36b07ff7",
   "metadata": {
    "ExecuteTime": {
     "end_time": "2023-06-11T20:21:55.856969Z",
     "start_time": "2023-06-11T20:21:55.854403Z"
    }
   },
   "source": [
    "<div class=\"alert alert-info\" style=\"background-color: #FFB380;color: white;border-radius: 10px;\">\n",
    "    <h1>Pipeline and model</h1>\n",
    "    <h2><i>Train-test split</i></h2>\n",
    "</div>"
   ]
  },
  {
   "cell_type": "code",
   "execution_count": 24,
   "id": "02ff3383",
   "metadata": {
    "ExecuteTime": {
     "end_time": "2023-07-02T13:03:39.593690Z",
     "start_time": "2023-07-02T13:03:39.441855Z"
    }
   },
   "outputs": [],
   "source": [
    "from sklearn.model_selection import train_test_split\n",
    "\n",
    "X = train.drop(\"Transported\", axis=1)\n",
    "y = train['Transported']\n",
    "\n",
    "X_train, X_test, y_train, y_test = train_test_split(X, y, test_size=0.2, random_state=42)"
   ]
  },
  {
   "cell_type": "markdown",
   "id": "fe1c025a",
   "metadata": {},
   "source": [
    "<div class=\"alert alert-info\" style=\"background-color: #FFB380;color: white;border-radius: 10px;\">\n",
    "    <h2><i>Separating Numerical and Categorical Features for the Pipeline</i></h2>\n",
    "</div>"
   ]
  },
  {
   "cell_type": "code",
   "execution_count": 25,
   "id": "0b6ffe04",
   "metadata": {
    "ExecuteTime": {
     "end_time": "2023-07-02T13:03:39.598659Z",
     "start_time": "2023-07-02T13:03:39.594697Z"
    }
   },
   "outputs": [],
   "source": [
    "numerical_columns = X.select_dtypes(include=['int','float']).columns.tolist()\n",
    "categorical_columns = X.select_dtypes(include=['object']).columns.tolist()"
   ]
  },
  {
   "cell_type": "markdown",
   "id": "3eb8c4b7",
   "metadata": {},
   "source": [
    "<div class=\"alert alert-info\" style=\"background-color: #FFB380;color: white;border-radius: 10px;\">\n",
    "    <h2><i>Now we create a simple model and fit transform using the pipeline</i></h2>\n",
    "</div>"
   ]
  },
  {
   "cell_type": "code",
   "execution_count": 26,
   "id": "424a76c3",
   "metadata": {
    "ExecuteTime": {
     "end_time": "2023-07-02T13:03:40.187706Z",
     "start_time": "2023-07-02T13:03:39.599666Z"
    },
    "code_folding": []
   },
   "outputs": [
    {
     "name": "stdout",
     "output_type": "stream",
     "text": [
      "Test Accuracy: 0.80448533640023\n"
     ]
    }
   ],
   "source": [
    "import xgboost as xgb\n",
    "from sklearn.pipeline import Pipeline\n",
    "from sklearn.impute import SimpleImputer, KNNImputer\n",
    "from sklearn.preprocessing import StandardScaler, OneHotEncoder\n",
    "from sklearn.compose import ColumnTransformer\n",
    "from sklearn.metrics import accuracy_score\n",
    "\n",
    "imputer_median = SimpleImputer(strategy='median')\n",
    "knn = KNNImputer()\n",
    "\n",
    "numerical_pipeline = Pipeline([\n",
    "    ('imputer_median', imputer_median),\n",
    "    ('scaler', StandardScaler())\n",
    "])\n",
    "\n",
    "categorical_pipeline = Pipeline([\n",
    "    ('imputer_most_frequent', SimpleImputer(strategy='most_frequent')),\n",
    "    ('encoder', OneHotEncoder(handle_unknown='ignore'))\n",
    "])\n",
    "\n",
    "\n",
    "preprocessor = ColumnTransformer([\n",
    "    ('num', numerical_pipeline, numerical_columns),\n",
    "    ('cat', categorical_pipeline, categorical_columns)\n",
    "])\n",
    "\n",
    "xgb_model = xgb.XGBClassifier()\n",
    "\n",
    "pipeline = Pipeline([\n",
    "    ('preprocessor', preprocessor),\n",
    "    ('classifier', xgb_model)\n",
    "])\n",
    "\n",
    "\n",
    "pipeline.fit(X_train, y_train)\n",
    "\n",
    "\n",
    "y_pred_test = pipeline.predict(X_test)\n",
    "\n",
    "\n",
    "accuracy_test = accuracy_score(y_test, y_pred_test)\n",
    "print(\"Test Accuracy:\", accuracy_test)"
   ]
  },
  {
   "cell_type": "markdown",
   "id": "ee22f336",
   "metadata": {},
   "source": [
    "<div class=\"alert alert-info\" style=\"background-color: #FFB380;color: white;border-radius: 10px;\">\n",
    "    <h1>Feature Engineering and Testing FE performance</h1>\n",
    "</div>"
   ]
  },
  {
   "cell_type": "markdown",
   "id": "3d672d9a",
   "metadata": {
    "ExecuteTime": {
     "end_time": "2023-06-11T20:33:05.830210Z",
     "start_time": "2023-06-11T20:33:04.188519Z"
    },
    "scrolled": true
   },
   "source": [
    "<div class=\"alert alert-info\" style=\"background-color: #FFB380;color: white;border-radius: 10px;\">\n",
    "    <h2><i>Lets do a sum of all spending per passenger</i></h2>\n",
    "    <h3>We only include those columns that show spending habits within the spaceship as per data documentation in Kaggle</h3>\n",
    "</div>"
   ]
  },
  {
   "cell_type": "code",
   "execution_count": 27,
   "id": "3db23e80",
   "metadata": {
    "ExecuteTime": {
     "end_time": "2023-07-02T13:03:40.231774Z",
     "start_time": "2023-07-02T13:03:40.188712Z"
    }
   },
   "outputs": [
    {
     "data": {
      "text/html": [
       "<div>\n",
       "<style scoped>\n",
       "    .dataframe tbody tr th:only-of-type {\n",
       "        vertical-align: middle;\n",
       "    }\n",
       "\n",
       "    .dataframe tbody tr th {\n",
       "        vertical-align: top;\n",
       "    }\n",
       "\n",
       "    .dataframe thead th {\n",
       "        text-align: right;\n",
       "    }\n",
       "</style>\n",
       "<table border=\"1\" class=\"dataframe\">\n",
       "  <thead>\n",
       "    <tr style=\"text-align: right;\">\n",
       "      <th></th>\n",
       "      <th>HomePlanet</th>\n",
       "      <th>CryoSleep</th>\n",
       "      <th>Destination</th>\n",
       "      <th>Age</th>\n",
       "      <th>VIP</th>\n",
       "      <th>RoomService</th>\n",
       "      <th>FoodCourt</th>\n",
       "      <th>ShoppingMall</th>\n",
       "      <th>Spa</th>\n",
       "      <th>VRDeck</th>\n",
       "      <th>Name</th>\n",
       "      <th>Deck Level</th>\n",
       "      <th>Cabin Number</th>\n",
       "      <th>Starboard/Port</th>\n",
       "      <th>Passenger_Num</th>\n",
       "      <th>Passenger_Group</th>\n",
       "      <th>Spending_in_Room</th>\n",
       "      <th>Spending_in_Ship</th>\n",
       "      <th>in_spenders</th>\n",
       "      <th>out_spenders</th>\n",
       "    </tr>\n",
       "  </thead>\n",
       "  <tbody>\n",
       "    <tr>\n",
       "      <th>0</th>\n",
       "      <td>Earth</td>\n",
       "      <td>True</td>\n",
       "      <td>TRAPPIST-1e</td>\n",
       "      <td>27.0</td>\n",
       "      <td>False</td>\n",
       "      <td>0.0</td>\n",
       "      <td>0.0</td>\n",
       "      <td>0.0</td>\n",
       "      <td>0.0</td>\n",
       "      <td>0.0</td>\n",
       "      <td>Nelly Carsoning</td>\n",
       "      <td>G</td>\n",
       "      <td>3.0</td>\n",
       "      <td>S</td>\n",
       "      <td>0013</td>\n",
       "      <td>01</td>\n",
       "      <td>0.0</td>\n",
       "      <td>0.0</td>\n",
       "      <td>0</td>\n",
       "      <td>0</td>\n",
       "    </tr>\n",
       "    <tr>\n",
       "      <th>1</th>\n",
       "      <td>Earth</td>\n",
       "      <td>False</td>\n",
       "      <td>TRAPPIST-1e</td>\n",
       "      <td>19.0</td>\n",
       "      <td>False</td>\n",
       "      <td>0.0</td>\n",
       "      <td>9.0</td>\n",
       "      <td>0.0</td>\n",
       "      <td>2823.0</td>\n",
       "      <td>0.0</td>\n",
       "      <td>Lerome Peckers</td>\n",
       "      <td>F</td>\n",
       "      <td>4.0</td>\n",
       "      <td>S</td>\n",
       "      <td>0018</td>\n",
       "      <td>01</td>\n",
       "      <td>2823.0</td>\n",
       "      <td>9.0</td>\n",
       "      <td>1</td>\n",
       "      <td>1</td>\n",
       "    </tr>\n",
       "    <tr>\n",
       "      <th>2</th>\n",
       "      <td>Europa</td>\n",
       "      <td>True</td>\n",
       "      <td>55 Cancri e</td>\n",
       "      <td>31.0</td>\n",
       "      <td>False</td>\n",
       "      <td>0.0</td>\n",
       "      <td>0.0</td>\n",
       "      <td>0.0</td>\n",
       "      <td>0.0</td>\n",
       "      <td>0.0</td>\n",
       "      <td>Sabih Unhearfus</td>\n",
       "      <td>C</td>\n",
       "      <td>0.0</td>\n",
       "      <td>S</td>\n",
       "      <td>0019</td>\n",
       "      <td>01</td>\n",
       "      <td>0.0</td>\n",
       "      <td>0.0</td>\n",
       "      <td>0</td>\n",
       "      <td>0</td>\n",
       "    </tr>\n",
       "    <tr>\n",
       "      <th>3</th>\n",
       "      <td>Europa</td>\n",
       "      <td>False</td>\n",
       "      <td>TRAPPIST-1e</td>\n",
       "      <td>38.0</td>\n",
       "      <td>False</td>\n",
       "      <td>0.0</td>\n",
       "      <td>6652.0</td>\n",
       "      <td>0.0</td>\n",
       "      <td>181.0</td>\n",
       "      <td>585.0</td>\n",
       "      <td>Meratz Caltilter</td>\n",
       "      <td>C</td>\n",
       "      <td>1.0</td>\n",
       "      <td>S</td>\n",
       "      <td>0021</td>\n",
       "      <td>01</td>\n",
       "      <td>766.0</td>\n",
       "      <td>6652.0</td>\n",
       "      <td>1</td>\n",
       "      <td>1</td>\n",
       "    </tr>\n",
       "    <tr>\n",
       "      <th>4</th>\n",
       "      <td>Earth</td>\n",
       "      <td>False</td>\n",
       "      <td>TRAPPIST-1e</td>\n",
       "      <td>20.0</td>\n",
       "      <td>False</td>\n",
       "      <td>10.0</td>\n",
       "      <td>0.0</td>\n",
       "      <td>635.0</td>\n",
       "      <td>0.0</td>\n",
       "      <td>0.0</td>\n",
       "      <td>Brence Harperez</td>\n",
       "      <td>F</td>\n",
       "      <td>5.0</td>\n",
       "      <td>S</td>\n",
       "      <td>0023</td>\n",
       "      <td>01</td>\n",
       "      <td>10.0</td>\n",
       "      <td>635.0</td>\n",
       "      <td>1</td>\n",
       "      <td>1</td>\n",
       "    </tr>\n",
       "    <tr>\n",
       "      <th>...</th>\n",
       "      <td>...</td>\n",
       "      <td>...</td>\n",
       "      <td>...</td>\n",
       "      <td>...</td>\n",
       "      <td>...</td>\n",
       "      <td>...</td>\n",
       "      <td>...</td>\n",
       "      <td>...</td>\n",
       "      <td>...</td>\n",
       "      <td>...</td>\n",
       "      <td>...</td>\n",
       "      <td>...</td>\n",
       "      <td>...</td>\n",
       "      <td>...</td>\n",
       "      <td>...</td>\n",
       "      <td>...</td>\n",
       "      <td>...</td>\n",
       "      <td>...</td>\n",
       "      <td>...</td>\n",
       "      <td>...</td>\n",
       "    </tr>\n",
       "    <tr>\n",
       "      <th>4272</th>\n",
       "      <td>Earth</td>\n",
       "      <td>True</td>\n",
       "      <td>TRAPPIST-1e</td>\n",
       "      <td>34.0</td>\n",
       "      <td>False</td>\n",
       "      <td>0.0</td>\n",
       "      <td>0.0</td>\n",
       "      <td>0.0</td>\n",
       "      <td>0.0</td>\n",
       "      <td>0.0</td>\n",
       "      <td>Jeron Peter</td>\n",
       "      <td>G</td>\n",
       "      <td>1496.0</td>\n",
       "      <td>S</td>\n",
       "      <td>9266</td>\n",
       "      <td>02</td>\n",
       "      <td>0.0</td>\n",
       "      <td>0.0</td>\n",
       "      <td>0</td>\n",
       "      <td>0</td>\n",
       "    </tr>\n",
       "    <tr>\n",
       "      <th>4273</th>\n",
       "      <td>Earth</td>\n",
       "      <td>False</td>\n",
       "      <td>TRAPPIST-1e</td>\n",
       "      <td>42.0</td>\n",
       "      <td>False</td>\n",
       "      <td>0.0</td>\n",
       "      <td>847.0</td>\n",
       "      <td>17.0</td>\n",
       "      <td>10.0</td>\n",
       "      <td>144.0</td>\n",
       "      <td>Matty Scheron</td>\n",
       "      <td>NaN</td>\n",
       "      <td>NaN</td>\n",
       "      <td>NaN</td>\n",
       "      <td>9269</td>\n",
       "      <td>01</td>\n",
       "      <td>154.0</td>\n",
       "      <td>864.0</td>\n",
       "      <td>1</td>\n",
       "      <td>1</td>\n",
       "    </tr>\n",
       "    <tr>\n",
       "      <th>4274</th>\n",
       "      <td>Mars</td>\n",
       "      <td>True</td>\n",
       "      <td>55 Cancri e</td>\n",
       "      <td>NaN</td>\n",
       "      <td>False</td>\n",
       "      <td>0.0</td>\n",
       "      <td>0.0</td>\n",
       "      <td>0.0</td>\n",
       "      <td>0.0</td>\n",
       "      <td>0.0</td>\n",
       "      <td>Jayrin Pore</td>\n",
       "      <td>D</td>\n",
       "      <td>296.0</td>\n",
       "      <td>P</td>\n",
       "      <td>9271</td>\n",
       "      <td>01</td>\n",
       "      <td>0.0</td>\n",
       "      <td>0.0</td>\n",
       "      <td>0</td>\n",
       "      <td>0</td>\n",
       "    </tr>\n",
       "    <tr>\n",
       "      <th>4275</th>\n",
       "      <td>Europa</td>\n",
       "      <td>False</td>\n",
       "      <td>NaN</td>\n",
       "      <td>NaN</td>\n",
       "      <td>False</td>\n",
       "      <td>0.0</td>\n",
       "      <td>2680.0</td>\n",
       "      <td>0.0</td>\n",
       "      <td>0.0</td>\n",
       "      <td>523.0</td>\n",
       "      <td>Kitakan Conale</td>\n",
       "      <td>D</td>\n",
       "      <td>297.0</td>\n",
       "      <td>P</td>\n",
       "      <td>9273</td>\n",
       "      <td>01</td>\n",
       "      <td>523.0</td>\n",
       "      <td>2680.0</td>\n",
       "      <td>1</td>\n",
       "      <td>1</td>\n",
       "    </tr>\n",
       "    <tr>\n",
       "      <th>4276</th>\n",
       "      <td>Earth</td>\n",
       "      <td>True</td>\n",
       "      <td>PSO J318.5-22</td>\n",
       "      <td>43.0</td>\n",
       "      <td>False</td>\n",
       "      <td>0.0</td>\n",
       "      <td>0.0</td>\n",
       "      <td>0.0</td>\n",
       "      <td>0.0</td>\n",
       "      <td>0.0</td>\n",
       "      <td>Lilace Leonzaley</td>\n",
       "      <td>G</td>\n",
       "      <td>1498.0</td>\n",
       "      <td>S</td>\n",
       "      <td>9277</td>\n",
       "      <td>01</td>\n",
       "      <td>0.0</td>\n",
       "      <td>0.0</td>\n",
       "      <td>0</td>\n",
       "      <td>0</td>\n",
       "    </tr>\n",
       "  </tbody>\n",
       "</table>\n",
       "<p>4277 rows × 20 columns</p>\n",
       "</div>"
      ],
      "text/plain": [
       "     HomePlanet CryoSleep    Destination   Age    VIP  RoomService  FoodCourt   \n",
       "0         Earth      True    TRAPPIST-1e  27.0  False          0.0        0.0  \\\n",
       "1         Earth     False    TRAPPIST-1e  19.0  False          0.0        9.0   \n",
       "2        Europa      True    55 Cancri e  31.0  False          0.0        0.0   \n",
       "3        Europa     False    TRAPPIST-1e  38.0  False          0.0     6652.0   \n",
       "4         Earth     False    TRAPPIST-1e  20.0  False         10.0        0.0   \n",
       "...         ...       ...            ...   ...    ...          ...        ...   \n",
       "4272      Earth      True    TRAPPIST-1e  34.0  False          0.0        0.0   \n",
       "4273      Earth     False    TRAPPIST-1e  42.0  False          0.0      847.0   \n",
       "4274       Mars      True    55 Cancri e   NaN  False          0.0        0.0   \n",
       "4275     Europa     False            NaN   NaN  False          0.0     2680.0   \n",
       "4276      Earth      True  PSO J318.5-22  43.0  False          0.0        0.0   \n",
       "\n",
       "      ShoppingMall     Spa  VRDeck              Name Deck Level  Cabin Number   \n",
       "0              0.0     0.0     0.0   Nelly Carsoning          G           3.0  \\\n",
       "1              0.0  2823.0     0.0    Lerome Peckers          F           4.0   \n",
       "2              0.0     0.0     0.0   Sabih Unhearfus          C           0.0   \n",
       "3              0.0   181.0   585.0  Meratz Caltilter          C           1.0   \n",
       "4            635.0     0.0     0.0   Brence Harperez          F           5.0   \n",
       "...            ...     ...     ...               ...        ...           ...   \n",
       "4272           0.0     0.0     0.0       Jeron Peter          G        1496.0   \n",
       "4273          17.0    10.0   144.0     Matty Scheron        NaN           NaN   \n",
       "4274           0.0     0.0     0.0       Jayrin Pore          D         296.0   \n",
       "4275           0.0     0.0   523.0    Kitakan Conale          D         297.0   \n",
       "4276           0.0     0.0     0.0  Lilace Leonzaley          G        1498.0   \n",
       "\n",
       "     Starboard/Port Passenger_Num Passenger_Group  Spending_in_Room   \n",
       "0                 S          0013              01               0.0  \\\n",
       "1                 S          0018              01            2823.0   \n",
       "2                 S          0019              01               0.0   \n",
       "3                 S          0021              01             766.0   \n",
       "4                 S          0023              01              10.0   \n",
       "...             ...           ...             ...               ...   \n",
       "4272              S          9266              02               0.0   \n",
       "4273            NaN          9269              01             154.0   \n",
       "4274              P          9271              01               0.0   \n",
       "4275              P          9273              01             523.0   \n",
       "4276              S          9277              01               0.0   \n",
       "\n",
       "      Spending_in_Ship  in_spenders  out_spenders  \n",
       "0                  0.0            0             0  \n",
       "1                  9.0            1             1  \n",
       "2                  0.0            0             0  \n",
       "3               6652.0            1             1  \n",
       "4                635.0            1             1  \n",
       "...                ...          ...           ...  \n",
       "4272               0.0            0             0  \n",
       "4273             864.0            1             1  \n",
       "4274               0.0            0             0  \n",
       "4275            2680.0            1             1  \n",
       "4276               0.0            0             0  \n",
       "\n",
       "[4277 rows x 20 columns]"
      ]
     },
     "execution_count": 27,
     "metadata": {},
     "output_type": "execute_result"
    }
   ],
   "source": [
    "def calculate_total(df):\n",
    "    df['Spending_in_Room'] = df[['RoomService', 'Spa', 'VRDeck']].sum(axis=1)\n",
    "    df['Spending_in_Ship'] = df[['FoodCourt', 'ShoppingMall']].sum(axis=1)\n",
    "    df['in_spenders'] = df['Spending_in_Room'].apply(lambda x: 1 if x > 0 else (0 if x == 0 else None))\n",
    "    df['out_spenders'] = df['Spending_in_Ship'].apply(lambda x: 1 if x > 0 else (0 if x == 0 else None))\n",
    "    return df\n",
    "\n",
    "calculate_total(train)\n",
    "calculate_total(test)"
   ]
  },
  {
   "cell_type": "code",
   "execution_count": 28,
   "id": "87f2c308",
   "metadata": {
    "ExecuteTime": {
     "end_time": "2023-07-02T13:03:40.939719Z",
     "start_time": "2023-07-02T13:03:40.238283Z"
    }
   },
   "outputs": [
    {
     "name": "stdout",
     "output_type": "stream",
     "text": [
      "Test Accuracy: 0.79700977573318\n"
     ]
    }
   ],
   "source": [
    "X_1 = train.drop(\"Transported\", axis=1)\n",
    "y_1 = train['Transported']\n",
    "\n",
    "\n",
    "X_train, X_test, y_train, y_test = train_test_split(X_1, y_1, test_size=0.2, random_state=42)\n",
    "\n",
    "numerical_columns = X_1.select_dtypes(include=['int','float']).columns.tolist()\n",
    "categorical_columns = X_1.select_dtypes(include=['object']).columns.tolist()\n",
    "\n",
    "numerical_pipeline = Pipeline([\n",
    "    ('imputer_median', SimpleImputer(strategy='median')),\n",
    "    ('scaler', StandardScaler())\n",
    "])\n",
    "\n",
    "categorical_pipeline = Pipeline([\n",
    "    ('imputer_most_frequent', SimpleImputer(strategy='most_frequent')),\n",
    "    ('encoder', OneHotEncoder(handle_unknown='ignore'))\n",
    "])\n",
    "\n",
    "\n",
    "preprocessor = ColumnTransformer([\n",
    "    ('num', numerical_pipeline, numerical_columns),\n",
    "    ('cat', categorical_pipeline, categorical_columns)\n",
    "])\n",
    "\n",
    "xgb_model = xgb.XGBClassifier()\n",
    "\n",
    "pipeline = Pipeline([\n",
    "    ('preprocessor', preprocessor),\n",
    "    ('classifier', xgb_model)\n",
    "])\n",
    "\n",
    "pipeline.fit(X_train, y_train)\n",
    "\n",
    "y_pred_test = pipeline.predict(X_test)\n",
    "\n",
    "accuracy_test = accuracy_score(y_test, y_pred_test)\n",
    "print(\"Test Accuracy:\", accuracy_test)"
   ]
  },
  {
   "cell_type": "markdown",
   "id": "c99cb757",
   "metadata": {},
   "source": [
    "<div class=\"alert alert-info\" style=\"background-color: #FFB380;color: white;border-radius: 10px;\">\n",
    "    <h2><i> We will now try some bootstrapping</i></h2>\n",
    "</div>"
   ]
  },
  {
   "cell_type": "code",
   "execution_count": 29,
   "id": "54e57a1d",
   "metadata": {
    "ExecuteTime": {
     "end_time": "2023-07-02T13:03:40.946368Z",
     "start_time": "2023-07-02T13:03:40.940725Z"
    }
   },
   "outputs": [],
   "source": [
    "bootstrapped_train = train.sample(frac=1.2, replace=True, random_state=42)"
   ]
  },
  {
   "cell_type": "code",
   "execution_count": 30,
   "id": "4a4ee19a",
   "metadata": {
    "ExecuteTime": {
     "end_time": "2023-07-02T13:03:41.640810Z",
     "start_time": "2023-07-02T13:03:40.947374Z"
    }
   },
   "outputs": [
    {
     "name": "stdout",
     "output_type": "stream",
     "text": [
      "Test Accuracy: 0.8902731193100144\n"
     ]
    }
   ],
   "source": [
    "X_2 = bootstrapped_train.drop(\"Transported\", axis=1)\n",
    "y_2 = bootstrapped_train['Transported']\n",
    "\n",
    "\n",
    "X_train, X_test, y_train, y_test = train_test_split(X_2, y_2, test_size=0.2, random_state=42)\n",
    "\n",
    "numerical_columns = X_2.select_dtypes(include=['int','float']).columns.tolist()\n",
    "categorical_columns = X_2.select_dtypes(include=['object']).columns.tolist()\n",
    "\n",
    "numerical_pipeline = Pipeline([\n",
    "    ('imputer_median', SimpleImputer(strategy='median')),\n",
    "    ('scaler', StandardScaler())\n",
    "])\n",
    "\n",
    "categorical_pipeline = Pipeline([\n",
    "    ('imputer_most_frequent', SimpleImputer(strategy='most_frequent')),\n",
    "    ('encoder', OneHotEncoder(handle_unknown='ignore'))\n",
    "])\n",
    "\n",
    "\n",
    "preprocessor = ColumnTransformer([\n",
    "    ('num', numerical_pipeline, numerical_columns),\n",
    "    ('cat', categorical_pipeline, categorical_columns)\n",
    "])\n",
    "\n",
    "xgb_model = xgb.XGBClassifier()\n",
    "\n",
    "pipeline = Pipeline([\n",
    "    ('preprocessor', preprocessor),\n",
    "    ('classifier', xgb_model)\n",
    "])\n",
    "\n",
    "pipeline.fit(X_train, y_train)\n",
    "\n",
    "y_pred_test = pipeline.predict(X_test)\n",
    "\n",
    "accuracy_test = accuracy_score(y_test, y_pred_test)\n",
    "print(\"Test Accuracy:\", accuracy_test)"
   ]
  },
  {
   "cell_type": "markdown",
   "id": "6f8a86c5",
   "metadata": {},
   "source": [
    "<div class=\"alert alert-info\" style=\"background-color: #FFB380;color: white;border-radius: 10px;\">\n",
    "    <h1>Testing Feature Engineering performance</h1>\n",
    "</div>"
   ]
  },
  {
   "cell_type": "code",
   "execution_count": 31,
   "id": "c3f9c743",
   "metadata": {
    "ExecuteTime": {
     "end_time": "2023-07-02T13:03:41.700633Z",
     "start_time": "2023-07-02T13:03:41.642315Z"
    }
   },
   "outputs": [],
   "source": [
    "from sklearn.linear_model import LinearRegression\n",
    "from sklearn.tree import DecisionTreeClassifier\n",
    "from sklearn.ensemble import RandomForestClassifier, GradientBoostingClassifier\n",
    "from sklearn.svm import SVC\n",
    "import catboost as cb\n",
    "from sklearn.model_selection import StratifiedKFold, cross_val_score,RandomizedSearchCV\n",
    "from scipy.stats import randint, uniform"
   ]
  },
  {
   "cell_type": "markdown",
   "id": "3756b450",
   "metadata": {},
   "source": [
    "<div class=\"alert alert-info\" style=\"background-color: #FFB380;color: white;border-radius: 10px;\">\n",
    "    <h2><i> Final XGBoost model before checking other models </i></h2>\n",
    "</div>"
   ]
  },
  {
   "cell_type": "code",
   "execution_count": 32,
   "id": "b21065a5",
   "metadata": {
    "ExecuteTime": {
     "end_time": "2023-07-02T13:03:42.390345Z",
     "start_time": "2023-07-02T13:03:41.701634Z"
    }
   },
   "outputs": [
    {
     "name": "stdout",
     "output_type": "stream",
     "text": [
      "Test Accuracy: 0.8902731193100144\n"
     ]
    }
   ],
   "source": [
    "X_train, X_test, y_train, y_test = train_test_split(X_2, y_2, test_size=0.2, random_state=42)\n",
    "\n",
    "numerical_columns = X_2.select_dtypes(include=['int','float']).columns.tolist()\n",
    "categorical_columns = X_2.select_dtypes(include=['object']).columns.tolist()\n",
    "\n",
    "numerical_pipeline = Pipeline([\n",
    "    ('imputer_median', SimpleImputer(strategy='median')),\n",
    "    ('scaler', StandardScaler())\n",
    "])\n",
    "\n",
    "categorical_pipeline = Pipeline([\n",
    "    ('imputer_most_frequent', SimpleImputer(strategy='most_frequent')),\n",
    "    ('encoder', OneHotEncoder(handle_unknown='ignore'))\n",
    "])\n",
    "\n",
    "\n",
    "preprocessor = ColumnTransformer([\n",
    "    ('num', numerical_pipeline, numerical_columns),\n",
    "    ('cat', categorical_pipeline, categorical_columns)\n",
    "])\n",
    "\n",
    "xgb_model = xgb.XGBClassifier()\n",
    "\n",
    "pipeline = Pipeline([\n",
    "    ('preprocessor', preprocessor),\n",
    "    ('classifier', xgb_model)\n",
    "])\n",
    "\n",
    "pipeline.fit(X_train, y_train)\n",
    "\n",
    "y_pred_test = pipeline.predict(X_test)\n",
    "\n",
    "accuracy_test = accuracy_score(y_test, y_pred_test)\n",
    "print(\"Test Accuracy:\", accuracy_test)"
   ]
  },
  {
   "cell_type": "markdown",
   "id": "b0083c23",
   "metadata": {},
   "source": [
    "<div class=\"alert alert-info\" style=\"background-color: #FFB380;color: white;border-radius: 10px;\">\n",
    "    <h2><i> Trying a set of other models </i></h2>\n",
    "</div>"
   ]
  },
  {
   "cell_type": "code",
   "execution_count": 33,
   "id": "212bb80f",
   "metadata": {
    "ExecuteTime": {
     "end_time": "2023-07-02T13:04:09.860446Z",
     "start_time": "2023-07-02T13:03:42.390345Z"
    }
   },
   "outputs": [
    {
     "name": "stdout",
     "output_type": "stream",
     "text": [
      "Model 1 Test Accuracy: 0.836607570675611\n",
      "Model 2 Test Accuracy: 0.8902731193100144\n",
      "Model 3 Test Accuracy: 0.9113560134163872\n",
      "Model 4 Test Accuracy: 0.9195016770483948\n",
      "Model 5 Test Accuracy: 0.832774317201725\n",
      "Model 6 Test Accuracy: 0.8001916626736943\n"
     ]
    }
   ],
   "source": [
    "catboost_model = cb.CatBoostClassifier(loss_function='Logloss',verbose=False)\n",
    "model1 = Pipeline([\n",
    "    ('preprocessor', preprocessor),\n",
    "    ('classifier', catboost_model)\n",
    "])\n",
    "\n",
    "xgb_model = xgb.XGBClassifier()\n",
    "model2 = Pipeline([\n",
    "    ('preprocessor', preprocessor),\n",
    "    ('classifier', xgb_model)\n",
    "])\n",
    "\n",
    "\n",
    "decision_tree_model = DecisionTreeClassifier()\n",
    "model3 = Pipeline([\n",
    "    ('preprocessor', preprocessor),\n",
    "    ('classifier', decision_tree_model)\n",
    "])\n",
    "\n",
    "\n",
    "random_forest_model = RandomForestClassifier()\n",
    "model4 = Pipeline([\n",
    "    ('preprocessor', preprocessor),\n",
    "    ('classifier', random_forest_model)\n",
    "])\n",
    "\n",
    "\n",
    "svm_model = SVC()\n",
    "model5 = Pipeline([\n",
    "    ('preprocessor', preprocessor),\n",
    "    ('classifier', svm_model)\n",
    "])\n",
    "\n",
    "\n",
    "gradient_boosting_model = GradientBoostingClassifier()\n",
    "model6 = Pipeline([\n",
    "    ('preprocessor', preprocessor),\n",
    "    ('classifier', gradient_boosting_model)\n",
    "])\n",
    "\n",
    "\n",
    "models = [model1, model2, model3, model4, model5, model6]\n",
    "\n",
    "\n",
    "for i, model in enumerate(models):\n",
    "    model.fit(X_train, y_train)\n",
    "    y_pred_test = model.predict(X_test)\n",
    "    accuracy_test = accuracy_score(y_test, y_pred_test)\n",
    "    print(\"Model\", i+1, \"Test Accuracy:\", accuracy_test)"
   ]
  },
  {
   "cell_type": "markdown",
   "id": "c5714d3d",
   "metadata": {},
   "source": [
    "<div class=\"alert alert-info\" style=\"background-color: #FFB380;color: white;border-radius: 10px;\">\n",
    "    <h1> XGBoost optimizing with randomized search cv </h1>\n",
    "</div>\n",
    "\n",
    "- Everything is frozen to avoid re-running due to long computational time."
   ]
  },
  {
   "cell_type": "markdown",
   "id": "8c945468",
   "metadata": {},
   "source": [
    "<div class=\"alert alert-info\" style=\"background-color: #FFB380;color: white;border-radius: 10px;\">\n",
    "    <h2><i> Re-defining the Pipeline </i></h2>\n",
    "</div>"
   ]
  },
  {
   "cell_type": "code",
   "execution_count": 34,
   "id": "a4bcc61e",
   "metadata": {
    "ExecuteTime": {
     "end_time": "2023-07-02T13:04:09.864908Z",
     "start_time": "2023-07-02T13:04:09.860953Z"
    },
    "deletable": false,
    "editable": false
   },
   "outputs": [],
   "source": [
    "numerical_pipeline = Pipeline([\n",
    "    ('imputer_median', SimpleImputer(strategy='median')),\n",
    "    ('scaler', StandardScaler())\n",
    "])\n",
    "\n",
    "categorical_pipeline = Pipeline([\n",
    "    ('imputer_most_frequent', SimpleImputer(strategy='most_frequent')),\n",
    "    ('encoder', OneHotEncoder(handle_unknown='ignore'))\n",
    "])\n",
    "\n",
    "preprocessor = ColumnTransformer([\n",
    "    ('num', numerical_pipeline, numerical_columns),\n",
    "    ('cat', categorical_pipeline, categorical_columns)\n",
    "])\n",
    "\n",
    "xgb_model = xgb.XGBClassifier()\n",
    "\n",
    "pipeline = Pipeline([\n",
    "    ('preprocessor', preprocessor),\n",
    "    ('classifier', xgb_model)\n",
    "])"
   ]
  },
  {
   "cell_type": "markdown",
   "id": "efef4d7e",
   "metadata": {},
   "source": [
    "<div class=\"alert alert-info\" style=\"background-color: #FFB380;color: white;border-radius: 10px;\">\n",
    "    <h2><i> Final XGBoost model </i></h2>\n",
    "</div>"
   ]
  },
  {
   "cell_type": "code",
   "execution_count": null,
   "id": "3c1858e5",
   "metadata": {
    "ExecuteTime": {
     "end_time": "2023-06-12T18:08:24.734002Z",
     "start_time": "2023-06-12T18:08:16.973634Z"
    },
    "deletable": false,
    "editable": false,
    "run_control": {
     "frozen": true
    }
   },
   "outputs": [],
   "source": [
    "stratified_kfold = StratifiedKFold(n_splits=5, shuffle=True, random_state=42)\n",
    "\n",
    "classifier = xgb.XGBClassifier()\n",
    "\n",
    "pipeline = Pipeline([\n",
    "    ('preprocessor', preprocessor),\n",
    "    ('classifier', classifier)\n",
    "])\n",
    "\n",
    "\n",
    "param_dist = {\n",
    "    'classifier__n_estimators': randint(30, 200),\n",
    "    'classifier__max_depth': randint(2, 8),\n",
    "    'classifier__learning_rate': uniform(0.001, 0.1),\n",
    "    'classifier__min_child_weight': randint(1, 10),\n",
    "    'classifier__subsample': uniform(0.7, 0.3),\n",
    "    'classifier__gamma': uniform(0, 0.3),\n",
    "    'classifier__colsample_bytree': uniform(0.7, 0.3)\n",
    "}\n",
    "\n",
    "\n",
    "random_search = RandomizedSearchCV(pipeline, param_distributions=param_dist, cv=stratified_kfold, scoring='accuracy', n_iter=200, random_state=42,n_jobs=12)\n",
    "\n",
    "\n",
    "random_search.fit(X_train, y_train)\n",
    "\n",
    "\n",
    "best_model = random_search.best_estimator_\n",
    "best_params = random_search.best_params_\n",
    "\n",
    "\n",
    "print(\"Best Parameters:\", best_params)\n",
    "\n",
    "\n",
    "y_pred_test = best_model.predict(X_test)\n",
    "\n",
    "\n",
    "accuracy_test = accuracy_score(y_test, y_pred_test)\n",
    "print(\"Test Accuracy (Tuned Model):\", accuracy_test)\n"
   ]
  },
  {
   "cell_type": "markdown",
   "id": "5b0b4a1a",
   "metadata": {},
   "source": [
    "<div class=\"alert alert-info\" style=\"background-color: #FFB380;color: white;border-radius: 10px;\">\n",
    "    <h1> CatBoost optimizing </h1>\n",
    "</div>"
   ]
  },
  {
   "cell_type": "code",
   "execution_count": null,
   "id": "788b1bae",
   "metadata": {
    "ExecuteTime": {
     "end_time": "2023-07-02T12:44:38.561639Z",
     "start_time": "2023-07-02T12:43:41.389392Z"
    },
    "code_folding": [],
    "deletable": false,
    "editable": false,
    "run_control": {
     "frozen": true
    }
   },
   "outputs": [],
   "source": [
    "from sklearn.model_selection import RandomizedSearchCV, StratifiedKFold\n",
    "from scipy.stats import randint, uniform\n",
    "import catboost as cb\n",
    "\n",
    "\n",
    "catboost = cb.CatBoostClassifier(loss_function='Logloss', verbose=False)\n",
    "\n",
    "\n",
    "pipeline = Pipeline([\n",
    "    ('preprocessor', preprocessor),\n",
    "    ('classifier', catboost)\n",
    "])\n",
    "\n",
    "\n",
    "stratified_kfold = StratifiedKFold(n_splits=10, shuffle=True, random_state=42)\n",
    "\n",
    "\n",
    "param_dist = {\n",
    "    'classifier__iterations': randint(80, 200),\n",
    "    'classifier__depth': randint(1, 8),\n",
    "    'classifier__learning_rate': uniform(0.001, 0.1),\n",
    "    'classifier__l2_leaf_reg': uniform(1, 20),\n",
    "    'classifier__border_count': randint(1, 500),\n",
    "    'classifier__bagging_temperature': uniform(0, 1),\n",
    "    'classifier__loss_function': ['Logloss', 'CrossEntropy']\n",
    "}\n",
    "\n",
    "\n",
    "catboost_model = cb.CatBoostClassifier(loss_function='Logloss', verbose=False)\n",
    "\n",
    "\n",
    "pipeline = Pipeline([\n",
    "    ('preprocessor', preprocessor),\n",
    "    ('classifier', catboost_model)\n",
    "])\n",
    "\n",
    "\n",
    "random_search = RandomizedSearchCV(pipeline, param_distributions=param_dist, cv=stratified_kfold, scoring='accuracy', n_iter=100, random_state=42, n_jobs=12)\n",
    "\n",
    "\n",
    "random_search.fit(X_train, y_train)\n",
    "\n",
    "\n",
    "best_model = random_search.best_estimator_\n",
    "best_params = random_search.best_params_\n",
    "\n",
    "\n",
    "print(\"Best Parameters:\", best_params)\n",
    "\n",
    "\n",
    "y_pred_test = best_model.predict(X_test)\n",
    "\n",
    "\n",
    "accuracy_test = accuracy_score(y_test, y_pred_test)\n",
    "print(\"Test Accuracy (Tuned Model):\", accuracy_test)"
   ]
  },
  {
   "cell_type": "markdown",
   "id": "65f5382f",
   "metadata": {},
   "source": [
    "<div class=\"alert alert-info\" style=\"background-color: #FFB380;color: white;border-radius: 10px;\">\n",
    "    <h2><i> Trying to find the optimal bootstrapping sample size </i></h2>\n",
    "</div>\n",
    "\n",
    "- As we increase the sample size, we might run into overfitting."
   ]
  },
  {
   "cell_type": "code",
   "execution_count": 40,
   "id": "3855f603",
   "metadata": {
    "ExecuteTime": {
     "end_time": "2023-07-02T13:06:01.112636Z",
     "start_time": "2023-07-02T13:05:30.155226Z"
    }
   },
   "outputs": [
    {
     "data": {
      "image/png": "[encoded data removed]",
      "text/plain": [
       "<Figure size 640x480 with 1 Axes>"
      ]
     },
     "metadata": {},
     "output_type": "display_data"
    }
   ],
   "source": [
    "import catboost as cb\n",
    "\n",
    "frac_values = [round(x, 1) for x in np.arange(1.0, 1.3, 0.02)]\n",
    "\n",
    "accuracy_scores = []\n",
    "\n",
    "for frac in frac_values:\n",
    "    bootstrapped_train = train.sample(frac=frac, replace=True, random_state=42)\n",
    "\n",
    "    X_2 = bootstrapped_train.drop(\"Transported\", axis=1)\n",
    "    y_2 = bootstrapped_train['Transported']\n",
    "    X_train, X_test, y_train, y_test = train_test_split(X_2, y_2, test_size=0.2, random_state=42)\n",
    "    \n",
    "    numerical_columns = X_2.select_dtypes(include=['int','float']).columns.tolist()\n",
    "    categorical_columns = X_2.select_dtypes(include=['object']).columns.tolist()\n",
    "\n",
    "    numerical_pipeline = Pipeline([\n",
    "    ('imputer_median', SimpleImputer(strategy='median')),\n",
    "    ('scaler', StandardScaler())\n",
    "    ])\n",
    "\n",
    "    categorical_pipeline = Pipeline([\n",
    "    ('imputer_most_frequent', SimpleImputer(strategy='most_frequent')),\n",
    "    ('encoder', OneHotEncoder(handle_unknown='ignore'))\n",
    "    ])\n",
    "    \n",
    "    preprocessor = ColumnTransformer([\n",
    "    ('num', numerical_pipeline, numerical_columns),\n",
    "    ('cat', categorical_pipeline, categorical_columns)\n",
    "    ])\n",
    "\n",
    "\n",
    "    # Best parameters obtained from RandomizedSearchCV\n",
    "    best_parameters = {\n",
    "    'bagging_temperature': 0.8389335020693633,\n",
    "    'border_count': 58,\n",
    "    'depth': 6,\n",
    "    'iterations': 128,\n",
    "    'l2_leaf_reg': 1.7469637749842883,\n",
    "    'learning_rate': 0.08326005606596583\n",
    "    }\n",
    "    \n",
    "    catboost_best = cb.CatBoostClassifier(loss_function='Logloss', verbose=False, **best_parameters)\n",
    "\n",
    "    pipeline = Pipeline([\n",
    "    ('preprocessor', preprocessor),\n",
    "    ('classifier', catboost_best)\n",
    "    ])\n",
    "\n",
    "    pipeline.fit(X_train, y_train)\n",
    "\n",
    "    \n",
    "    y_pred_test = pipeline.predict(X_test)\n",
    "\n",
    "    \n",
    "    accuracy_test = accuracy_score(y_test, y_pred_test)\n",
    "    \n",
    "    \n",
    "    accuracy_scores.append(accuracy_test)\n",
    "\n",
    "plt.plot(frac_values, accuracy_scores)\n",
    "plt.xlabel('frac')\n",
    "plt.ylabel('Accuracy')\n",
    "plt.title('Accuracy vs. frac')\n",
    "plt.grid(True)\n",
    "plt.show()"
   ]
  },
  {
   "cell_type": "markdown",
   "id": "301c1a90",
   "metadata": {},
   "source": [
    "<div class=\"alert alert-info\" style=\"background-color: #FFB380;color: white;border-radius: 10px;\">\n",
    "    <h1> Running the best model </h1>\n",
    "<p><b>\n",
    "- CatBoost\n",
    "Bootstrapping fraction set to (all percentages are accuracy):\n",
    "\n",
    "- 1.1: 80.5%\n",
    "- 1.2: 80.664%\n",
    "- 1.5: 80.0%\n",
    "- 1.6: 80.243%\n",
    "- 1.7: 80.5%\n",
    "- 1.8: 80.1%\n",
    "- 1.9: 80.1%\n",
    "- 2.0: 80.664% \n",
    "- 2.1: 80.224%\n",
    "- Important to mention the diminishing returns of bootstrapping, it gave us a slight boost but above 1.2, we just observe overfitting.\n",
    "    </b></p>\n",
    "</div>"
   ]
  },
  {
   "cell_type": "markdown",
   "id": "47d2a92b",
   "metadata": {},
   "source": [
    "<div class=\"alert alert-info\" style=\"background-color: #FFB380;color: white;border-radius: 10px;\">\n",
    "    <h2> Running the best CatBoost model </h2>\n",
    "\n",
    "</div>"
   ]
  },
  {
   "cell_type": "code",
   "execution_count": 36,
   "id": "be333731",
   "metadata": {
    "ExecuteTime": {
     "end_time": "2023-07-02T13:04:51.630649Z",
     "start_time": "2023-07-02T13:04:31.420658Z"
    }
   },
   "outputs": [
    {
     "name": "stdout",
     "output_type": "stream",
     "text": [
      "Cross-validation scores: [0.83353293 0.80359281 0.80598802 0.78443114 0.7988024  0.81055156\n",
      " 0.81654676 0.81294964 0.8117506  0.83213429]\n",
      "Mean Cross-validation score: 0.8110280159106248\n",
      "Test Accuracy (Tuned Model): 0.8092956396741735\n"
     ]
    }
   ],
   "source": [
    "bootstrapped_train = train.sample(frac=1.2, replace=True, random_state=42)\n",
    "\n",
    "X_2 = bootstrapped_train.drop(\"Transported\", axis=1)\n",
    "y_2 = bootstrapped_train['Transported']\n",
    "X_train, X_test, y_train, y_test = train_test_split(\n",
    "    X_2, y_2, test_size=0.2, random_state=42)\n",
    "\n",
    "numerical_columns = X_2.select_dtypes(\n",
    "    include=['int', 'float']).columns.tolist()\n",
    "categorical_columns = X_2.select_dtypes(\n",
    "    include=['object']).columns.tolist()\n",
    "\n",
    "numerical_pipeline = Pipeline([\n",
    "    ('imputer_median', SimpleImputer(strategy='median')),\n",
    "    ('scaler', StandardScaler())\n",
    "])\n",
    "\n",
    "categorical_pipeline = Pipeline([\n",
    "    ('imputer_most_frequent', SimpleImputer(strategy='most_frequent')),\n",
    "    ('encoder', OneHotEncoder(handle_unknown='ignore'))\n",
    "])\n",
    "\n",
    "preprocessor = ColumnTransformer([\n",
    "    ('num', numerical_pipeline, numerical_columns),\n",
    "    ('cat', categorical_pipeline, categorical_columns)\n",
    "])\n",
    "\n",
    "best_parameters_catboost = {\n",
    "    'bagging_temperature': 0.8389335020693633,\n",
    "    'border_count': 58,\n",
    "    'depth': 6,\n",
    "    'iterations': 128,\n",
    "    'l2_leaf_reg': 1.7469637749842883,\n",
    "    'learning_rate': 0.08326005606596583\n",
    "}\n",
    "\n",
    "catboost_best = cb.CatBoostClassifier(\n",
    "    loss_function='Logloss', verbose=False, **best_parameters_catboost)\n",
    "\n",
    "pipeline_cat = Pipeline([\n",
    "    ('preprocessor', preprocessor),\n",
    "    ('classifier', catboost_best)\n",
    "])\n",
    "\n",
    "# Perform Stratified 10-fold Cross-Validation\n",
    "cv = StratifiedKFold(n_splits=10, shuffle=True, random_state=42)\n",
    "cv_scores = cross_val_score(pipeline_cat, X_train, y_train, cv=cv, scoring='accuracy')\n",
    "print(\"Cross-validation scores:\", cv_scores)\n",
    "print(\"Mean Cross-validation score:\", cv_scores.mean())\n",
    "\n",
    "# Fit and predict as before\n",
    "pipeline_cat.fit(X_train, y_train)\n",
    "y_pred_test = pipeline_cat.predict(X_test)\n",
    "\n",
    "accuracy_test = accuracy_score(y_test, y_pred_test)\n",
    "print(\"Test Accuracy (Tuned Model):\", accuracy_test)"
   ]
  },
  {
   "cell_type": "markdown",
   "id": "ffc1d944",
   "metadata": {},
   "source": [
    "<div class=\"alert alert-info\" style=\"background-color: #FFB380;color: white;border-radius: 10px;\">\n",
    "    <h2> Checking for overfitting in our CatBoost Model </h2>\n",
    "</div>"
   ]
  },
  {
   "cell_type": "code",
   "execution_count": 37,
   "id": "87ef6eea",
   "metadata": {
    "ExecuteTime": {
     "end_time": "2023-07-02T13:05:12.252482Z",
     "start_time": "2023-07-02T13:04:51.631657Z"
    }
   },
   "outputs": [
    {
     "name": "stdout",
     "output_type": "stream",
     "text": [
      "Train Accuracy (Tuned Model): 0.8310365488316357\n",
      "Mean Cross-validation score: 0.8110280159106248\n",
      "Test Accuracy (Tuned Model): 0.8092956396741735\n"
     ]
    }
   ],
   "source": [
    "# Fit and predict as before\n",
    "pipeline_cat.fit(X_train, y_train)\n",
    "y_pred_train = pipeline_cat.predict(X_train)\n",
    "\n",
    "# Train accuracy\n",
    "accuracy_train = accuracy_score(y_train, y_pred_train)\n",
    "print(\"Train Accuracy (Tuned Model):\", accuracy_train)\n",
    "\n",
    "# Cross-Validation score\n",
    "cv = StratifiedKFold(n_splits=10, shuffle=True, random_state=42)\n",
    "cv_scores = cross_val_score(pipeline_cat, X_train, y_train, cv=cv, scoring='accuracy')\n",
    "print(\"Mean Cross-validation score:\", cv_scores.mean())\n",
    "\n",
    "# Test accuracy\n",
    "y_pred_test = pipeline_cat.predict(X_test)\n",
    "accuracy_test = accuracy_score(y_test, y_pred_test)\n",
    "print(\"Test Accuracy (Tuned Model):\", accuracy_test)"
   ]
  },
  {
   "cell_type": "markdown",
   "id": "101263b3",
   "metadata": {},
   "source": [
    "These results show that our model doesnt suffer from overfitting."
   ]
  },
  {
   "cell_type": "markdown",
   "id": "d32d5dad",
   "metadata": {},
   "source": [
    "<div class=\"alert alert-info\" style=\"background-color: #FFB380;color: white;border-radius: 10px;\">\n",
    "    <h2> Running the best XgBoost Model </h2>\n",
    "</div>"
   ]
  },
  {
   "cell_type": "markdown",
   "id": "ca4aab72",
   "metadata": {},
   "source": [
    "This model is most probably extremely overfitted."
   ]
  },
  {
   "cell_type": "code",
   "execution_count": 38,
   "id": "74dba723",
   "metadata": {
    "ExecuteTime": {
     "end_time": "2023-07-02T13:05:19.369582Z",
     "start_time": "2023-07-02T13:05:12.253487Z"
    }
   },
   "outputs": [
    {
     "name": "stdout",
     "output_type": "stream",
     "text": [
      "Mean Cross-validation score: 0.881849107540315\n"
     ]
    }
   ],
   "source": [
    "best_parameters_xgboost: {'classifier__colsample_bytree': 0.7233203910894954, 'classifier__gamma': 0.29231844229984993, 'classifier__learning_rate': 0.0996210744479603,\n",
    "                          'classifier__max_depth': 7, 'classifier__min_child_weight': 1, 'classifier__n_estimators': 190, 'classifier__subsample': 0.8233620162616558}\n",
    "\n",
    "bootstrapped_train = train.sample(frac=1.2, replace=True, random_state=42)\n",
    "\n",
    "X_2 = bootstrapped_train.drop(\"Transported\", axis=1)\n",
    "y_2 = bootstrapped_train['Transported']\n",
    "X_train, X_test, y_train, y_test = train_test_split(\n",
    "    X_2, y_2, test_size=0.2, random_state=42)\n",
    "\n",
    "numerical_columns = X_2.select_dtypes(\n",
    "    include=['int', 'float']).columns.tolist()\n",
    "categorical_columns = X_2.select_dtypes(\n",
    "    include=['object']).columns.tolist()\n",
    "\n",
    "numerical_pipeline = Pipeline([\n",
    "    ('imputer_median', SimpleImputer(strategy='median')),\n",
    "    ('scaler', StandardScaler())\n",
    "])\n",
    "\n",
    "categorical_pipeline = Pipeline([\n",
    "    ('imputer_most_frequent', SimpleImputer(strategy='most_frequent')),\n",
    "    ('encoder', OneHotEncoder(handle_unknown='ignore'))\n",
    "])\n",
    "\n",
    "preprocessor = ColumnTransformer([\n",
    "    ('num', numerical_pipeline, numerical_columns),\n",
    "    ('cat', categorical_pipeline, categorical_columns)\n",
    "])\n",
    "\n",
    "best_parameters_xgboost: {\n",
    "'classifier__colsample_bytree': 0.7233203910894954, 'classifier__gamma': 0.29231844229984993,\n",
    "'classifier__learning_rate': 0.0996210744479603,\n",
    "'classifier__max_depth': 7, 'classifier__min_child_weight': 1, \n",
    "'classifier__n_estimators': 190, 'classifier__subsample': 0.8233620162616558}\n",
    "\n",
    "\n",
    "classifier = xgb.XGBClassifier()\n",
    "\n",
    "pipeline_xg = Pipeline([\n",
    "    ('preprocessor', preprocessor),\n",
    "    ('classifier', classifier)\n",
    "])\n",
    "\n",
    "# Perform Stratified 10-fold Cross-Validation\n",
    "cv = StratifiedKFold(n_splits=10, shuffle=True, random_state=42)\n",
    "cv_scores = cross_val_score(pipeline_xg, X_train, y_train, cv=cv, scoring='accuracy')\n",
    "print(\"Mean Cross-validation score:\", cv_scores.mean())\n",
    "\n",
    "# Fit and predict as before\n",
    "pipeline_xg.fit(X_train, y_train)\n",
    "y_pred_test = pipeline_xg.predict(X_test)"
   ]
  },
  {
   "cell_type": "markdown",
   "id": "7bc7d4d6",
   "metadata": {},
   "source": [
    "<div class=\"alert alert-info\" style=\"background-color: #FFB380;color: white;border-radius: 10px;\">\n",
    "    <h2> Checking for overfitting in our CatBoost Model </h2>\n",
    "</div>"
   ]
  },
  {
   "cell_type": "code",
   "execution_count": 39,
   "id": "aa1d5944",
   "metadata": {
    "ExecuteTime": {
     "end_time": "2023-07-02T13:05:26.537417Z",
     "start_time": "2023-07-02T13:05:19.370583Z"
    }
   },
   "outputs": [
    {
     "name": "stdout",
     "output_type": "stream",
     "text": [
      "Train Accuracy (Tuned Model): 0.9505092869982025\n",
      "Mean Cross-validation score: 0.881849107540315\n",
      "Test Accuracy (Tuned Model): 0.8902731193100144\n"
     ]
    }
   ],
   "source": [
    "# Fit and predict as before\n",
    "pipeline_xg.fit(X_train, y_train)\n",
    "y_pred_train = pipeline_xg.predict(X_train)\n",
    "\n",
    "# Train accuracy\n",
    "accuracy_train = accuracy_score(y_train, y_pred_train)\n",
    "print(\"Train Accuracy (Tuned Model):\", accuracy_train)\n",
    "\n",
    "# Cross-Validation score\n",
    "cv = StratifiedKFold(n_splits=10, shuffle=True, random_state=42)\n",
    "cv_scores = cross_val_score(pipeline_xg, X_train, y_train, cv=cv, scoring='accuracy')\n",
    "print(\"Mean Cross-validation score:\", cv_scores.mean())\n",
    "# Test accuracy\n",
    "y_pred_test = pipeline_xg.predict(X_test)\n",
    "accuracy_test = accuracy_score(y_test, y_pred_test)\n",
    "print(\"Test Accuracy (Tuned Model):\", accuracy_test)"
   ]
  },
  {
   "cell_type": "markdown",
   "id": "077b3369",
   "metadata": {},
   "source": [
    "<div class=\"alert alert-info\" style=\"background-color: #FFB380;color: white;border-radius: 10px;\">\n",
    "    <h1> We attempt to change thresholds to maximize accuracy </h1>\n",
    "</div>"
   ]
  },
  {
   "cell_type": "code",
   "execution_count": null,
   "id": "8cd13f68",
   "metadata": {
    "ExecuteTime": {
     "end_time": "2023-06-12T18:19:08.009093Z",
     "start_time": "2023-06-12T18:19:07.934387Z"
    },
    "deletable": false,
    "editable": false,
    "run_control": {
     "frozen": true
    }
   },
   "outputs": [],
   "source": [
    "# Get the predicted probabilities for the positive class (class 1)\n",
    "y_pred_prob = best_model.predict_proba(X_test)[:, 1]\n",
    "\n",
    "# Define a range of threshold values to test\n",
    "thresholds = np.linspace(0, 1, num=101)\n",
    "\n",
    "# Initialize variables to store the best accuracy and corresponding threshold\n",
    "best_accuracy = 0\n",
    "best_threshold = 0\n",
    "\n",
    "# Iterate over the thresholds and calculate accuracy\n",
    "for threshold in thresholds:\n",
    "    # Apply the threshold to convert probabilities to binary predictions\n",
    "    y_pred_binary = (y_pred_prob >= threshold).astype(int)\n",
    "    \n",
    "    # Calculate accuracy\n",
    "    accuracy = accuracy_score(y_test, y_pred_binary)\n",
    "    \n",
    "    # Check if the current accuracy is better than the previous best accuracy\n",
    "    if accuracy > best_accuracy:\n",
    "        best_accuracy = accuracy\n",
    "        best_threshold = threshold\n",
    "\n",
    "# Print the best threshold and corresponding accuracy\n",
    "print(\"Best Threshold:\", best_threshold)\n",
    "print(\"Best Accuracy:\", best_accuracy)"
   ]
  },
  {
   "cell_type": "markdown",
   "id": "e3783f56",
   "metadata": {},
   "source": [
    "<div class=\"alert alert-info\" style=\"background-color: #FFB380;color: white;border-radius: 10px;\">\n",
    "    <h1>  We chose CatBoost as our best model because it showed the least overfitting,n we then predict the test dataset with it and then save a new dataframe with passengerid (test dataframe) and the predicted result for the target label </h1>\n",
    "</div>"
   ]
  },
  {
   "cell_type": "code",
   "execution_count": null,
   "id": "235b1b95",
   "metadata": {
    "ExecuteTime": {
     "end_time": "2023-06-12T20:15:10.382574Z",
     "start_time": "2023-06-12T20:15:10.371144Z"
    },
    "deletable": false,
    "editable": false,
    "run_control": {
     "frozen": true
    }
   },
   "outputs": [],
   "source": [
    "y_pred_test = best_model.predict(test)\n",
    "print(y_pred_test)"
   ]
  },
  {
   "cell_type": "code",
   "execution_count": null,
   "id": "5574429f",
   "metadata": {
    "ExecuteTime": {
     "end_time": "2023-07-02T13:01:46.922926Z",
     "start_time": "2023-07-02T13:01:46.886878Z"
    }
   },
   "outputs": [],
   "source": [
    "y_pred_test = pipeline_cat.predict(test)\n",
    "y_pred_test"
   ]
  },
  {
   "cell_type": "code",
   "execution_count": null,
   "id": "693c754c",
   "metadata": {
    "ExecuteTime": {
     "end_time": "2023-07-02T13:01:48.194902Z",
     "start_time": "2023-07-02T13:01:48.186927Z"
    }
   },
   "outputs": [],
   "source": [
    "predictions = pd.DataFrame({'PassengerId': test['Passenger_Num'] + '_' + test['Passenger_Group'],\n",
    "                            'Transported': y_pred_test})\n",
    "\n",
    "predictions['Transported'] = predictions['Transported'].astype(bool)\n",
    "predictions"
   ]
  },
  {
   "cell_type": "code",
   "execution_count": null,
   "id": "8724c215",
   "metadata": {
    "ExecuteTime": {
     "end_time": "2023-07-02T13:01:53.405277Z",
     "start_time": "2023-07-02T13:01:53.398792Z"
    }
   },
   "outputs": [],
   "source": [
    "predictions.to_csv('prediction_catboost_1.2.csv', index=False)"
   ]
  },
  {
   "cell_type": "code",
   "execution_count": null,
   "id": "2eda2c1e",
   "metadata": {},
   "outputs": [],
   "source": []
  }
 ],
 "metadata": {
  "kernelspec": {
   "display_name": "Python 3 (ipykernel)",
   "language": "python",
   "name": "python3"
  },
  "language_info": {
   "codemirror_mode": {
    "name": "ipython",
    "version": 3
   },
   "file_extension": ".py",
   "mimetype": "text/x-python",
   "name": "python",
   "nbconvert_exporter": "python",
   "pygments_lexer": "ipython3",
   "version": "3.11.3"
  },
  "toc": {
   "base_numbering": 1,
   "nav_menu": {},
   "number_sections": true,
   "sideBar": true,
   "skip_h1_title": false,
   "title_cell": "Table of Contents",
   "title_sidebar": "Contents",
   "toc_cell": false,
   "toc_position": {
    "height": "calc(100% - 180px)",
    "left": "10px",
    "top": "150px",
    "width": "543.4px"
   },
   "toc_section_display": true,
   "toc_window_display": true
  },
  "varInspector": {
   "cols": {
    "lenName": 16,
    "lenType": 16,
    "lenVar": 40
   },
   "kernels_config": {
    "python": {
     "delete_cmd_postfix": "",
     "delete_cmd_prefix": "del ",
     "library": "var_list.py",
     "varRefreshCmd": "print(var_dic_list())"
    },
    "r": {
     "delete_cmd_postfix": ") ",
     "delete_cmd_prefix": "rm(",
     "library": "var_list.r",
     "varRefreshCmd": "cat(var_dic_list()) "
    }
   },
   "types_to_exclude": [
    "module",
    "function",
    "builtin_function_or_method",
    "instance",
    "_Feature"
   ],
   "window_display": false
  }
 },
 "nbformat": 4,
 "nbformat_minor": 5
}
