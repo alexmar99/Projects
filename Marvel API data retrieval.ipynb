{
 "cells": [
  {
   "cell_type": "markdown",
   "id": "17aae631",
   "metadata": {},
   "source": [
    "# Cloud Computing Assignment 1 - Team B6"
   ]
  },
  {
   "cell_type": "markdown",
   "id": "c0fcd3f4",
   "metadata": {},
   "source": [
    "# Part 1"
   ]
  },
  {
   "cell_type": "code",
   "execution_count": null,
   "id": "a6391c95",
   "metadata": {},
   "outputs": [],
   "source": [
    "import requests\n",
    "import pandas as pd\n",
    "import hashlib\n",
    "import json"
   ]
  },
  {
   "cell_type": "code",
   "execution_count": null,
   "id": "539fece9",
   "metadata": {},
   "outputs": [],
   "source": [
    "base_url = \"http://gateway.marvel.com/v1/public/\"\n",
    "publicKey = \"909856c3e3c3bc72bedd8567fdd85064\"\n",
    "privateKey = \"8e37626d552a3bd776adf5bd1d5e4b372386d208\"\n",
    "ts = '1'\n",
    "hashKey = hashlib.md5((ts+privateKey+publicKey).encode('utf-8')).hexdigest()\n",
    "\n",
    "params = { 'apikey' : publicKey,'ts': ts,'hash': hashKey, 'limit':30}"
   ]
  },
  {
   "cell_type": "code",
   "execution_count": null,
   "id": "3d5f0505",
   "metadata": {},
   "outputs": [],
   "source": [
    "response = requests.get(base_url+'characters',params).json()\n",
    "data = response['data']['results']"
   ]
  },
  {
   "cell_type": "code",
   "execution_count": null,
   "id": "74471166",
   "metadata": {
    "scrolled": false
   },
   "outputs": [],
   "source": [
    "elements = len(data)\n",
    "i=0\n",
    "characters = []\n",
    "\n",
    "while i < elements:\n",
    "    characters.append(data[i]['name'])\n",
    "    i+=1\n",
    "    \n",
    "print(characters)\n",
    "print('Type of character records:',type(characters[0]))   "
   ]
  },
  {
   "cell_type": "code",
   "execution_count": null,
   "id": "4c1194f1",
   "metadata": {},
   "outputs": [],
   "source": [
    "i=0\n",
    "ids = []\n",
    "\n",
    "while i < elements:\n",
    "    ids.append(data[i]['id'])\n",
    "    i+=1\n",
    "\n",
    "\n",
    "ids_str = [str(x) for x in ids]    \n",
    "print(ids_str)\n",
    "print('Type of ID records:',type(ids_str[0]))"
   ]
  },
  {
   "cell_type": "code",
   "execution_count": null,
   "id": "c9bc17cf",
   "metadata": {},
   "outputs": [],
   "source": [
    "i=0\n",
    "comics = []\n",
    "total = 0\n",
    "\n",
    "while i < elements:\n",
    "    if data[i]['comics']['available']>0:\n",
    "        comics.append(data[i]['comics']['available'])\n",
    "        total = total + data[i]['comics']['available']\n",
    "    else: \n",
    "        comics.append(None)\n",
    "    i+=1\n",
    "\n",
    "print('Total comics for all characters:', total)\n",
    "#print(comics)\n",
    "print('Type of comic records:',type(comics[0]))"
   ]
  },
  {
   "cell_type": "code",
   "execution_count": null,
   "id": "5285350d",
   "metadata": {},
   "outputs": [],
   "source": [
    "i=0\n",
    "series = []\n",
    "total = 0\n",
    "\n",
    "while i < elements:\n",
    "    if data[i]['series']['available']>0:\n",
    "        series.append(data[i]['series']['available'])\n",
    "        total = total + data[i]['series']['available']\n",
    "    else:\n",
    "        series.append(None)\n",
    "    i+=1\n",
    "\n",
    "print('Total series for al characters:',total)\n",
    "#print(series)\n",
    "print('Type of series records:',type(series[0]))"
   ]
  },
  {
   "cell_type": "code",
   "execution_count": null,
   "id": "9ff38d40",
   "metadata": {},
   "outputs": [],
   "source": [
    "i=0\n",
    "events = []\n",
    "total = 0\n",
    "\n",
    "while i < elements:\n",
    "    if data[i]['events']['available'] > 0:\n",
    "        events.append(data[i]['events']['available'])\n",
    "        total = total + data[i]['events']['available']\n",
    "    else:\n",
    "        events.append(None)\n",
    "    i+=1\n",
    "\n",
    "print('Total events for al characters:',total)    \n",
    "#print(events)\n",
    "print('Type of events records:',type(events[0]))"
   ]
  },
  {
   "cell_type": "code",
   "execution_count": null,
   "id": "2c080a3d",
   "metadata": {},
   "outputs": [],
   "source": [
    "i=0\n",
    "max_price = []\n",
    "\n",
    "while i < elements:\n",
    "    \n",
    "    response2 = requests.get(base_url+'characters/'+str(ids[i])+'/comics',params).json()\n",
    "    data_prices = response2['data']['results']\n",
    "    range_prices = len(data_prices)\n",
    "\n",
    "    \n",
    "    j = 0\n",
    "    aux_price=[]\n",
    "    \n",
    "    while j < range_prices:\n",
    "        \n",
    "        if len(data_prices[j]['prices']) == 2:\n",
    "                aux_price.append(max(data_prices[j]['prices'][0]['price'], data_prices[j]['prices'][1]['price']))\n",
    "        else:\n",
    "                aux_price.append(data_prices[j]['prices'][0]['price'])\n",
    "                      \n",
    "        j+=1\n",
    "\n",
    "    if len(aux_price)>0:\n",
    "        max_price.append(max(aux_price))\n",
    "    else:\n",
    "        max_price.append(None)\n",
    "   \n",
    "    i+=1\n",
    "               \n",
    "        \n",
    "        \n",
    "print(max_price)\n",
    "#print(len(max_price))"
   ]
  },
  {
   "cell_type": "code",
   "execution_count": null,
   "id": "1db46067",
   "metadata": {},
   "outputs": [],
   "source": [
    "df = {'Character Name':  characters,\n",
    "     'Character ID': ids,\n",
    "     'Total Available Events':events,\n",
    "     'Total Available Series':series,\n",
    "     'Total Available Comics':comics,\n",
    "     'Price of the Most Expensive Comic':max_price}\n",
    "\n",
    "\n",
    "\n",
    "result = pd.DataFrame(df)\n",
    "#print(result)"
   ]
  },
  {
   "cell_type": "code",
   "execution_count": null,
   "id": "c8eb8388",
   "metadata": {},
   "outputs": [],
   "source": [
    "result.to_csv('data.csv')"
   ]
  },
  {
   "cell_type": "markdown",
   "id": "fa2efd37",
   "metadata": {},
   "source": [
    "# Part 2"
   ]
  },
  {
   "cell_type": "markdown",
   "id": "f8a1270e",
   "metadata": {},
   "source": [
    "In this API you can request individual marvel characters from the data.csv file. Likewise, you can store users and passwords in the user.csv file.\n",
    "\n",
    "First, run the terminal from within the jupyter notebook. Once in the terminal, type \"python api2.py\", this will start the api.\n",
    "\n",
    "Make sure you have the following libraries installed (pip install flask_jwt_extended,pip install flask-bcrypt,pip install flask,pip install flask__restful) or the API will not start.\n",
    "\n",
    "If the API has started succesfully you will see the following code at the end of the terminal: Running on \"address\""
   ]
  },
  {
   "cell_type": "markdown",
   "id": "06986ee0",
   "metadata": {},
   "source": [
    "**1. To use dataframes and API requests we must import the two libraries shown below**"
   ]
  },
  {
   "cell_type": "code",
   "execution_count": null,
   "id": "16a75b23",
   "metadata": {},
   "outputs": [],
   "source": [
    "import requests\n",
    "import pandas as pd"
   ]
  },
  {
   "cell_type": "markdown",
   "id": "0dc91ca2",
   "metadata": {},
   "source": [
    "**2. To retrieve the whole DataFrame in json format we must use the following notation.**\n",
    "\n",
    "**If the address below doesn't work, substitute it with 'http://localhost:5000/characters'.**"
   ]
  },
  {
   "cell_type": "code",
   "execution_count": null,
   "id": "1e94f174",
   "metadata": {},
   "outputs": [],
   "source": [
    "# Retrieve the whole DataFrame in json format\n",
    "requests.get('http://127.0.0.1:5000/characters').json()\n"
   ]
  },
  {
   "cell_type": "markdown",
   "id": "aa2d0c96",
   "metadata": {},
   "source": [
    "**3. With the following request, we can retrieve information for a single entry or for a list of entries identified by Character ID. This can be done by changing the value for the Character ID in the params dictionary**"
   ]
  },
  {
   "cell_type": "code",
   "execution_count": null,
   "id": "4dc50192",
   "metadata": {},
   "outputs": [],
   "source": [
    "#Retrieve information for a single entry or for a list of entries identified by Character ID\n",
    "requests.get('http://127.0.0.1:5000/characters', params={'Character ID':1009146}).json()\n",
    "\n",
    "ids = [1009146,1011120]\n",
    "requests.get('http://127.0.0.1:5000/characters', params={'Character ID':ids}).json()"
   ]
  },
  {
   "cell_type": "markdown",
   "id": "31e5b205",
   "metadata": {},
   "source": [
    "**4. With the following request, we can retrieve information for a single entry or for a list of entries identified by Character Name.This can be done by changing the value for the Character Name in the params dictionary**"
   ]
  },
  {
   "cell_type": "code",
   "execution_count": null,
   "id": "877f463a",
   "metadata": {},
   "outputs": [],
   "source": [
    "#Retrieve information for a single entry or for a list of entries identified by Character Name\n",
    "\n",
    "names = ['3-D Man','Albion']\n",
    "\n",
    "requests.get('http://127.0.0.1:5000/characters', params={'Character Name':names}).json()"
   ]
  },
  {
   "cell_type": "markdown",
   "id": "a5df3f73",
   "metadata": {},
   "source": [
    "**5. This section enables the user to add a new character to the existing DataFrame by specifying its characteristics, alter the values for the distinict keys in the params dictionary, by using your authorization token.**\n",
    "\n",
    "**Note that you don't have to insert your access token given its already saved, since it was saved in part 10.**\n",
    "\n",
    "**Duplicates will not work**"
   ]
  },
  {
   "cell_type": "code",
   "execution_count": null,
   "id": "4625676a",
   "metadata": {
    "scrolled": true
   },
   "outputs": [],
   "source": [
    "#Add a new character to the existing DataFrame by specifying its characteristics. Restict Duplicates\n",
    "#This line wont work since it's not ready for authorization\n",
    "requests.post('http://127.0.0.1:5000/characters', \n",
    "              params={'Character ID':32342,\n",
    "                      'Character Name':'Jesus Solis',\n",
    "                      'Total Available Events':27,\n",
    "                      'Total Available Series': 3,\n",
    "                      'Total Available Comics': 32,\n",
    "                      'Price of the Most Expensive Comic' : 32.99}).json()"
   ]
  },
  {
   "cell_type": "markdown",
   "id": "040b74a1",
   "metadata": {},
   "source": [
    "**6. To add a new character to the existing DataFrame, specify its ID and the API will retrieve the rest from the marvel API.**\n",
    "\n",
    "**Duplicates will not work**"
   ]
  },
  {
   "cell_type": "code",
   "execution_count": null,
   "id": "27a992b5",
   "metadata": {},
   "outputs": [],
   "source": [
    "#Add a new character to the existing DataFrame by specifying its ID and retrieve the rest from marvel API. Restict Duplicates\n",
    "#This line wont work since it's not ready for authorization\n",
    "requests.post('http://127.0.0.1:5000/characters', params={'Character ID':1009151}).json()"
   ]
  },
  {
   "cell_type": "markdown",
   "id": "9d3e0d06",
   "metadata": {},
   "source": [
    "**7. To delete a character from the DataFrame, specify its ID**"
   ]
  },
  {
   "cell_type": "code",
   "execution_count": null,
   "id": "52fd1e89",
   "metadata": {},
   "outputs": [],
   "source": [
    "#Delete a character or a list of characters by providing either the Character ID or the Character Nam\n",
    "#This line wont work since it's not ready for authorization\n",
    "requests.delete('http://127.0.0.1:5000/characters',params={'Character ID':1009151}).json()"
   ]
  },
  {
   "cell_type": "markdown",
   "id": "17ae973e",
   "metadata": {},
   "source": [
    "**8. This piece of code, saves a csv file to your computer with the Email and Password needed to maniuplate the API**"
   ]
  },
  {
   "cell_type": "code",
   "execution_count": null,
   "id": "2b575b89",
   "metadata": {},
   "outputs": [],
   "source": [
    "#Create the sign in form\n",
    "df = pd.DataFrame(columns=['email', 'password'])\n",
    "df.to_csv('users.csv', index=False)"
   ]
  },
  {
   "cell_type": "markdown",
   "id": "9dc0333c",
   "metadata": {},
   "source": [
    "**9. This code posts the values for email and password and changes the saved User csv with new credentials.**"
   ]
  },
  {
   "cell_type": "code",
   "execution_count": null,
   "id": "40e79da5",
   "metadata": {},
   "outputs": [],
   "source": [
    "# Sign up module\n",
    "requests.post('http://127.0.0.1:5000/signup', params={'email': 'jesus.solis@esade.edu', 'password': '1303'}).json()"
   ]
  },
  {
   "cell_type": "markdown",
   "id": "3ef915d8",
   "metadata": {},
   "source": [
    "**10. This part provides the User with the access token needed for the API. This token is then saved so the user doesn't have to input the token in every piece of code.**"
   ]
  },
  {
   "cell_type": "code",
   "execution_count": null,
   "id": "99625538",
   "metadata": {},
   "outputs": [],
   "source": [
    "#log In module\n",
    "response = requests.get('http://127.0.0.1:5000/login', params={'email': 'jesus.solis@esade.edu', 'password': '1303'}).json()\n",
    "access_token = response['token']\n",
    "access_token"
   ]
  },
  {
   "cell_type": "markdown",
   "id": "9660bf68",
   "metadata": {},
   "source": [
    "**11. This section enables the user to add a new character to the existing DataFrame by specifying its characteristics, alter the values for the distinict keys in the params dictionary, by using your authorization token.**\n",
    "\n",
    "**Duplicates will not work**"
   ]
  },
  {
   "cell_type": "code",
   "execution_count": null,
   "id": "516dca33",
   "metadata": {},
   "outputs": [],
   "source": [
    "# Post a new character given all the parameters\n",
    "#This line will work since we've passed authorization token \n",
    "requests.post('http://127.0.0.1:5000/characters', \n",
    "              params={'Character ID':32342,\n",
    "                      'Character Name':'Jesus Solis',\n",
    "                      'Total Available Events':27,\n",
    "                      'Total Available Series': 3,\n",
    "                      'Total Available Comics': 32,\n",
    "                      'Price of the Most Expensive Comic' : 32.99},\n",
    "              headers={'Authorization': f'Bearer {access_token}'}).json()"
   ]
  },
  {
   "cell_type": "markdown",
   "id": "2ebe1a8d",
   "metadata": {},
   "source": [
    "**12. In this part we will test our code and add characters in different ways altering our approach an the information we provide when posting.** "
   ]
  },
  {
   "cell_type": "code",
   "execution_count": null,
   "id": "e011d061",
   "metadata": {},
   "outputs": [],
   "source": [
    "# Post a new character only with the character id in marvels page\n",
    "requests.post('http://127.0.0.1:5000/characters', \n",
    "              params={'Character ID':1011361},\n",
    "              headers={'Authorization': f'Bearer {access_token}'}).json()"
   ]
  },
  {
   "cell_type": "code",
   "execution_count": null,
   "id": "ea31e607",
   "metadata": {},
   "outputs": [],
   "source": [
    "# Post a character that doesn't exist in marvels API\n",
    "requests.post('http://127.0.0.1:5000/characters', \n",
    "              params={'Character ID':32302},\n",
    "              headers={'Authorization': f'Bearer {access_token}'}).json()"
   ]
  },
  {
   "cell_type": "code",
   "execution_count": null,
   "id": "fd4ebd16",
   "metadata": {},
   "outputs": [],
   "source": [
    "#This line will work since we've passed authorization token \n",
    "requests.delete('http://127.0.0.1:5000/characters'\n",
    "                ,\n",
    "                headers={'Authorization': f'Bearer {access_token}'}).json()"
   ]
  },
  {
   "cell_type": "code",
   "execution_count": null,
   "id": "e4bf1eed",
   "metadata": {},
   "outputs": [],
   "source": [
    "#This line will work since we've passed authorization token \n",
    "requests.delete('http://127.0.0.1:5000/characters'\n",
    "                ,params={'Character ID':32342},\n",
    "                headers={'Authorization': f'Bearer {access_token}'}).json()"
   ]
  },
  {
   "cell_type": "code",
   "execution_count": null,
   "id": "bf890d28",
   "metadata": {},
   "outputs": [],
   "source": [
    "#This line will work since we've passed authorization token \n",
    "requests.delete('http://127.0.0.1:5000/characters'\n",
    "                ,params={'Character ID':[1009146,1011361]},\n",
    "                headers={'Authorization': f'Bearer {access_token}'}).json()"
   ]
  },
  {
   "cell_type": "code",
   "execution_count": null,
   "id": "ae16012b",
   "metadata": {},
   "outputs": [],
   "source": [
    "#This line will work since we've passed authorization token \n",
    "requests.delete('http://127.0.0.1:5000/characters'\n",
    "                ,params={'Character Name':'Albion'},\n",
    "                headers={'Authorization': f'Bearer {access_token}'}).json()"
   ]
  },
  {
   "cell_type": "markdown",
   "id": "bb2fc14c",
   "metadata": {},
   "source": [
    "## Bonus: Updating most expensive comic price\n",
    "A characters most expensive comic price can be updated with a variety of symbols, which will be converted from given `currency` to `usd`.\n",
    "\n",
    "Forex rates are fetched with a [3rd-party API](https://apilayer.com/marketplace/exchangerates_data-api) that supports all available currencies\n",
    "\n",
    "Either the `id` or `name` parameter has to be passed in order to identify the entry. If both are passed, 400 Bad Request will be returned due to the conflicting query.\n",
    "\n",
    "Accepted parameters:\n",
    "```\n",
    "id: id of the character, required if name is null\n",
    "name: name of the character, required if id is null\n",
    "price: The new price of the characters most expensive comic in given currency - REQUIRED\n",
    "currency: The ISO 4217 Code of the currency that price is specified in - REQUIRED\n",
    "```"
   ]
  },
  {
   "cell_type": "code",
   "execution_count": null,
   "id": "ef55092c",
   "metadata": {},
   "outputs": [],
   "source": [
    "import requests\n",
    "requests.put('http://127.0.0.1:5000/characters', params={'Character ID':1011334,\n",
    "                                                         'Price': 4,\n",
    "                                                        'Currency': \"chf\"}).json()\n"
   ]
  }
 ],
 "metadata": {
  "kernelspec": {
   "display_name": "Python 3 (ipykernel)",
   "language": "python",
   "name": "python3"
  },
  "language_info": {
   "codemirror_mode": {
    "name": "ipython",
    "version": 3
   },
   "file_extension": ".py",
   "mimetype": "text/x-python",
   "name": "python",
   "nbconvert_exporter": "python",
   "pygments_lexer": "ipython3",
   "version": "3.11.3"
  },
  "toc": {
   "base_numbering": 1,
   "nav_menu": {},
   "number_sections": true,
   "sideBar": true,
   "skip_h1_title": false,
   "title_cell": "Table of Contents",
   "title_sidebar": "Contents",
   "toc_cell": false,
   "toc_position": {},
   "toc_section_display": true,
   "toc_window_display": false
  },
  "varInspector": {
   "cols": {
    "lenName": 16,
    "lenType": 16,
    "lenVar": 40
   },
   "kernels_config": {
    "python": {
     "delete_cmd_postfix": "",
     "delete_cmd_prefix": "del ",
     "library": "var_list.py",
     "varRefreshCmd": "print(var_dic_list())"
    },
    "r": {
     "delete_cmd_postfix": ") ",
     "delete_cmd_prefix": "rm(",
     "library": "var_list.r",
     "varRefreshCmd": "cat(var_dic_list()) "
    }
   },
   "types_to_exclude": [
    "module",
    "function",
    "builtin_function_or_method",
    "instance",
    "_Feature"
   ],
   "window_display": false
  }
 },
 "nbformat": 4,
 "nbformat_minor": 5
}
